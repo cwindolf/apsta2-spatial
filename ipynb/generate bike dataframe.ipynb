{
 "cells": [
  {
   "cell_type": "code",
   "execution_count": 1,
   "id": "98ad27ba",
   "metadata": {},
   "outputs": [],
   "source": [
    "import pandas as pd\n",
    "import numpy as np\n",
    "import yaml"
   ]
  },
  {
   "cell_type": "code",
   "execution_count": 2,
   "id": "830719ef",
   "metadata": {},
   "outputs": [
    {
     "name": "stderr",
     "output_type": "stream",
     "text": [
      "/Users/charlie/opt/miniconda3/envs/b/lib/python3.8/site-packages/IPython/core/interactiveshell.py:3165: DtypeWarning: Columns (4) have mixed types.Specify dtype option on import or set low_memory=False.\n",
      "  has_raised = await self.run_ast_nodes(code_ast.body, cell_name,\n"
     ]
    }
   ],
   "source": [
    "df = pd.read_csv(\"../data/Motor_Vehicle_Collisions_-_Crashes.csv.gzip\", compression=\"gzip\")"
   ]
  },
  {
   "cell_type": "code",
   "execution_count": 3,
   "id": "030f0101",
   "metadata": {},
   "outputs": [
    {
     "data": {
      "text/html": [
       "<div>\n",
       "<style scoped>\n",
       "    .dataframe tbody tr th:only-of-type {\n",
       "        vertical-align: middle;\n",
       "    }\n",
       "\n",
       "    .dataframe tbody tr th {\n",
       "        vertical-align: top;\n",
       "    }\n",
       "\n",
       "    .dataframe thead th {\n",
       "        text-align: right;\n",
       "    }\n",
       "</style>\n",
       "<table border=\"1\" class=\"dataframe\">\n",
       "  <thead>\n",
       "    <tr style=\"text-align: right;\">\n",
       "      <th></th>\n",
       "      <th>Unnamed: 0</th>\n",
       "      <th>CRASH DATE</th>\n",
       "      <th>CRASH TIME</th>\n",
       "      <th>BOROUGH</th>\n",
       "      <th>ZIP CODE</th>\n",
       "      <th>LATITUDE</th>\n",
       "      <th>LONGITUDE</th>\n",
       "      <th>LOCATION</th>\n",
       "      <th>ON STREET NAME</th>\n",
       "      <th>CROSS STREET NAME</th>\n",
       "      <th>...</th>\n",
       "      <th>CONTRIBUTING FACTOR VEHICLE 2</th>\n",
       "      <th>CONTRIBUTING FACTOR VEHICLE 3</th>\n",
       "      <th>CONTRIBUTING FACTOR VEHICLE 4</th>\n",
       "      <th>CONTRIBUTING FACTOR VEHICLE 5</th>\n",
       "      <th>COLLISION_ID</th>\n",
       "      <th>VEHICLE TYPE CODE 1</th>\n",
       "      <th>VEHICLE TYPE CODE 2</th>\n",
       "      <th>VEHICLE TYPE CODE 3</th>\n",
       "      <th>VEHICLE TYPE CODE 4</th>\n",
       "      <th>VEHICLE TYPE CODE 5</th>\n",
       "    </tr>\n",
       "  </thead>\n",
       "  <tbody>\n",
       "    <tr>\n",
       "      <th>0</th>\n",
       "      <td>0</td>\n",
       "      <td>10/08/2012</td>\n",
       "      <td>10:00</td>\n",
       "      <td>NaN</td>\n",
       "      <td>NaN</td>\n",
       "      <td>NaN</td>\n",
       "      <td>NaN</td>\n",
       "      <td>NaN</td>\n",
       "      <td>OCEAN AVENUE</td>\n",
       "      <td>SHORE PARKWAY</td>\n",
       "      <td>...</td>\n",
       "      <td>Unspecified</td>\n",
       "      <td>NaN</td>\n",
       "      <td>NaN</td>\n",
       "      <td>NaN</td>\n",
       "      <td>117045</td>\n",
       "      <td>OTHER</td>\n",
       "      <td>PASSENGER VEHICLE</td>\n",
       "      <td>NaN</td>\n",
       "      <td>NaN</td>\n",
       "      <td>NaN</td>\n",
       "    </tr>\n",
       "    <tr>\n",
       "      <th>1</th>\n",
       "      <td>1</td>\n",
       "      <td>10/30/2012</td>\n",
       "      <td>10:40</td>\n",
       "      <td>BROOKLYN</td>\n",
       "      <td>11214</td>\n",
       "      <td>40.604338</td>\n",
       "      <td>-74.006911</td>\n",
       "      <td>(40.6043377, -74.0069109)</td>\n",
       "      <td>BATH AVENUE</td>\n",
       "      <td>BAY 17 STREET</td>\n",
       "      <td>...</td>\n",
       "      <td>Unspecified</td>\n",
       "      <td>NaN</td>\n",
       "      <td>NaN</td>\n",
       "      <td>NaN</td>\n",
       "      <td>122248</td>\n",
       "      <td>PASSENGER VEHICLE</td>\n",
       "      <td>PASSENGER VEHICLE</td>\n",
       "      <td>NaN</td>\n",
       "      <td>NaN</td>\n",
       "      <td>NaN</td>\n",
       "    </tr>\n",
       "    <tr>\n",
       "      <th>2</th>\n",
       "      <td>2</td>\n",
       "      <td>11/03/2012</td>\n",
       "      <td>17:00</td>\n",
       "      <td>NaN</td>\n",
       "      <td>NaN</td>\n",
       "      <td>NaN</td>\n",
       "      <td>NaN</td>\n",
       "      <td>NaN</td>\n",
       "      <td>COLUMBUS CIRCLE</td>\n",
       "      <td>BROADWAY</td>\n",
       "      <td>...</td>\n",
       "      <td>Unspecified</td>\n",
       "      <td>NaN</td>\n",
       "      <td>NaN</td>\n",
       "      <td>NaN</td>\n",
       "      <td>39140</td>\n",
       "      <td>PASSENGER VEHICLE</td>\n",
       "      <td>PASSENGER VEHICLE</td>\n",
       "      <td>NaN</td>\n",
       "      <td>NaN</td>\n",
       "      <td>NaN</td>\n",
       "    </tr>\n",
       "    <tr>\n",
       "      <th>3</th>\n",
       "      <td>3</td>\n",
       "      <td>10/09/2012</td>\n",
       "      <td>19:00</td>\n",
       "      <td>MANHATTAN</td>\n",
       "      <td>10128</td>\n",
       "      <td>40.785866</td>\n",
       "      <td>-73.950929</td>\n",
       "      <td>(40.7858664, -73.9509287)</td>\n",
       "      <td>EAST 96 STREET</td>\n",
       "      <td>LEXINGTON AVENUE</td>\n",
       "      <td>...</td>\n",
       "      <td>NaN</td>\n",
       "      <td>NaN</td>\n",
       "      <td>NaN</td>\n",
       "      <td>NaN</td>\n",
       "      <td>55853</td>\n",
       "      <td>SPORT UTILITY / STATION WAGON</td>\n",
       "      <td>NaN</td>\n",
       "      <td>NaN</td>\n",
       "      <td>NaN</td>\n",
       "      <td>NaN</td>\n",
       "    </tr>\n",
       "    <tr>\n",
       "      <th>4</th>\n",
       "      <td>4</td>\n",
       "      <td>11/02/2012</td>\n",
       "      <td>13:41</td>\n",
       "      <td>MANHATTAN</td>\n",
       "      <td>10014</td>\n",
       "      <td>40.728605</td>\n",
       "      <td>-74.005315</td>\n",
       "      <td>(40.7286048, -74.0053146)</td>\n",
       "      <td>WEST HOUSTON STREET</td>\n",
       "      <td>VARICK STREET</td>\n",
       "      <td>...</td>\n",
       "      <td>Unspecified</td>\n",
       "      <td>NaN</td>\n",
       "      <td>NaN</td>\n",
       "      <td>NaN</td>\n",
       "      <td>1133</td>\n",
       "      <td>PASSENGER VEHICLE</td>\n",
       "      <td>LIVERY VEHICLE</td>\n",
       "      <td>NaN</td>\n",
       "      <td>NaN</td>\n",
       "      <td>NaN</td>\n",
       "    </tr>\n",
       "  </tbody>\n",
       "</table>\n",
       "<p>5 rows × 30 columns</p>\n",
       "</div>"
      ],
      "text/plain": [
       "   Unnamed: 0  CRASH DATE CRASH TIME    BOROUGH ZIP CODE   LATITUDE  \\\n",
       "0           0  10/08/2012      10:00        NaN      NaN        NaN   \n",
       "1           1  10/30/2012      10:40   BROOKLYN    11214  40.604338   \n",
       "2           2  11/03/2012      17:00        NaN      NaN        NaN   \n",
       "3           3  10/09/2012      19:00  MANHATTAN    10128  40.785866   \n",
       "4           4  11/02/2012      13:41  MANHATTAN    10014  40.728605   \n",
       "\n",
       "   LONGITUDE                   LOCATION                    ON STREET NAME  \\\n",
       "0        NaN                        NaN  OCEAN AVENUE                       \n",
       "1 -74.006911  (40.6043377, -74.0069109)  BATH AVENUE                        \n",
       "2        NaN                        NaN  COLUMBUS CIRCLE                    \n",
       "3 -73.950929  (40.7858664, -73.9509287)  EAST 96 STREET                     \n",
       "4 -74.005315  (40.7286048, -74.0053146)  WEST HOUSTON STREET                \n",
       "\n",
       "                  CROSS STREET NAME  ... CONTRIBUTING FACTOR VEHICLE 2  \\\n",
       "0  SHORE PARKWAY                     ...                   Unspecified   \n",
       "1  BAY 17 STREET                     ...                   Unspecified   \n",
       "2  BROADWAY                          ...                   Unspecified   \n",
       "3  LEXINGTON AVENUE                  ...                           NaN   \n",
       "4  VARICK STREET                     ...                   Unspecified   \n",
       "\n",
       "   CONTRIBUTING FACTOR VEHICLE 3  CONTRIBUTING FACTOR VEHICLE 4  \\\n",
       "0                            NaN                            NaN   \n",
       "1                            NaN                            NaN   \n",
       "2                            NaN                            NaN   \n",
       "3                            NaN                            NaN   \n",
       "4                            NaN                            NaN   \n",
       "\n",
       "   CONTRIBUTING FACTOR VEHICLE 5  COLLISION_ID            VEHICLE TYPE CODE 1  \\\n",
       "0                            NaN        117045                          OTHER   \n",
       "1                            NaN        122248              PASSENGER VEHICLE   \n",
       "2                            NaN         39140              PASSENGER VEHICLE   \n",
       "3                            NaN         55853  SPORT UTILITY / STATION WAGON   \n",
       "4                            NaN          1133              PASSENGER VEHICLE   \n",
       "\n",
       "   VEHICLE TYPE CODE 2  VEHICLE TYPE CODE 3  VEHICLE TYPE CODE 4  \\\n",
       "0    PASSENGER VEHICLE                  NaN                  NaN   \n",
       "1    PASSENGER VEHICLE                  NaN                  NaN   \n",
       "2    PASSENGER VEHICLE                  NaN                  NaN   \n",
       "3                  NaN                  NaN                  NaN   \n",
       "4       LIVERY VEHICLE                  NaN                  NaN   \n",
       "\n",
       "  VEHICLE TYPE CODE 5  \n",
       "0                 NaN  \n",
       "1                 NaN  \n",
       "2                 NaN  \n",
       "3                 NaN  \n",
       "4                 NaN  \n",
       "\n",
       "[5 rows x 30 columns]"
      ]
     },
     "execution_count": 3,
     "metadata": {},
     "output_type": "execute_result"
    }
   ],
   "source": [
    "df.head()"
   ]
  },
  {
   "cell_type": "code",
   "execution_count": 4,
   "id": "a5aa7250",
   "metadata": {},
   "outputs": [
    {
     "data": {
      "text/plain": [
       "['Bike',\n",
       " 'BICYCLE',\n",
       " 'Motorbike',\n",
       " 'E-Bike',\n",
       " 'ebike',\n",
       " 'Minibike',\n",
       " 'E-BIKE',\n",
       " 'E-BIK',\n",
       " 'E bike',\n",
       " 'E-bike',\n",
       " 'DIRT BIKE',\n",
       " 'E-Bik',\n",
       " 'CABIN',\n",
       " 'EBIKE',\n",
       " 'E bik',\n",
       " 'E BIK',\n",
       " 'MOBIL',\n",
       " 'Snowmobile',\n",
       " 'E- Bi',\n",
       " 'Bicyc',\n",
       " 'e-bik',\n",
       " 'BICYC',\n",
       " 'mobil',\n",
       " 'Ebike']"
      ]
     },
     "execution_count": 4,
     "metadata": {},
     "output_type": "execute_result"
    }
   ],
   "source": [
    "[x for x in df['VEHICLE TYPE CODE 1'].unique() if 'bi' in str(x).lower()]"
   ]
  },
  {
   "cell_type": "code",
   "execution_count": 5,
   "id": "1c2c45e6",
   "metadata": {},
   "outputs": [
    {
     "data": {
      "text/plain": [
       "['BICYCLE',\n",
       " 'Bike',\n",
       " 'E-Bike',\n",
       " 'Motorbike',\n",
       " 'Minibike',\n",
       " 'E-BIKE',\n",
       " 'E-bike',\n",
       " 'DIRT BIKE',\n",
       " 'e-bike',\n",
       " 'DIRTBIKE',\n",
       " 'Dirt Bike',\n",
       " 'motorbike',\n",
       " 'MOBILE',\n",
       " 'Dirt bike',\n",
       " 'E BIK',\n",
       " 'E-BIK',\n",
       " 'ebike',\n",
       " 'E-bik',\n",
       " 'Mobile foo',\n",
       " 'E-Bik',\n",
       " 'EBIKE',\n",
       " 'E Bik',\n",
       " 'E bik',\n",
       " 'MOBIL',\n",
       " 'Snowmobile',\n",
       " 'e-BIK',\n",
       " 'big r',\n",
       " 'E/BIK',\n",
       " 'e-bik',\n",
       " 'e bik',\n",
       " 'e BIK']"
      ]
     },
     "execution_count": 5,
     "metadata": {},
     "output_type": "execute_result"
    }
   ],
   "source": [
    "[x for x in df['VEHICLE TYPE CODE 2'].unique() if 'bi' in str(x).lower()]"
   ]
  },
  {
   "cell_type": "code",
   "execution_count": 6,
   "id": "286d3052",
   "metadata": {},
   "outputs": [
    {
     "data": {
      "text/plain": [
       "['BICYCLE', 'Bike', 'E-Bike', 'E-BIKE', 'Motorbike', 'E-Bik']"
      ]
     },
     "execution_count": 6,
     "metadata": {},
     "output_type": "execute_result"
    }
   ],
   "source": [
    "[x for x in df['VEHICLE TYPE CODE 3'].unique() if 'bi' in str(x).lower()]"
   ]
  },
  {
   "cell_type": "code",
   "execution_count": 7,
   "id": "6d0243bd",
   "metadata": {},
   "outputs": [
    {
     "data": {
      "text/plain": [
       "['BICYCLE', 'Bike', 'E-Bike']"
      ]
     },
     "execution_count": 7,
     "metadata": {},
     "output_type": "execute_result"
    }
   ],
   "source": [
    "[x for x in df['VEHICLE TYPE CODE 4'].unique() if 'bi' in str(x).lower()]"
   ]
  },
  {
   "cell_type": "code",
   "execution_count": 8,
   "id": "e8e59528",
   "metadata": {},
   "outputs": [],
   "source": [
    "def bike_was_present(row):\n",
    "    vehicles = \" \".join(str(row[f\"VEHICLE TYPE CODE {r}\"]) for r in (1, 2, 3, 4))\n",
    "    # start with whitespace to exclude motorbike\n",
    "    vehicles = \" \" + vehicles.lower()\n",
    "    return any(x in vehicles for x in (\" bik\", \" bic\", \"-bik\", \"ebik\"))"
   ]
  },
  {
   "cell_type": "code",
   "execution_count": 9,
   "id": "69b0e7d5",
   "metadata": {},
   "outputs": [],
   "source": [
    "df = df[df.apply(bike_was_present, axis=1)]"
   ]
  },
  {
   "cell_type": "code",
   "execution_count": 10,
   "id": "79de38fd",
   "metadata": {},
   "outputs": [],
   "source": [
    "# -- collect the data we use in a smaller dataframe `subdf`\n",
    "orig_names = [\"CRASH TIME\", \"LATITUDE\", \"LONGITUDE\", \"NUMBER OF PERSONS INJURED\", \"NUMBER OF PERSONS KILLED\", \"NUMBER OF CYCLIST KILLED\", \"NUMBER OF CYCLIST INJURED\",\"BOROUGH\", \"ZIP CODE\"]\n",
    "new_names = [\"time\", \"lat\", \"long\", \"injuries\", \"deaths\", \"bikedeaths\", \"bikeinjuries\", \"borough\", \"zip\"]\n",
    "subdf = df[orig_names]\n",
    "subdf = subdf.rename(columns=dict(zip(orig_names, new_names)))\n",
    "subdf = subdf.loc[subdf[\"lat\"] > 0]\n",
    "subdf = subdf.loc[subdf[\"long\"] < 0]\n",
    "subdf = subdf.replace(r'^\\s*$', np.nan, regex=True)\n",
    "def intna(x):\n",
    "    try:\n",
    "        return int(x)\n",
    "    except:\n",
    "        return np.nan\n",
    "subdf[\"zip\"] = subdf[\"zip\"].apply(intna)\n",
    "subdf = subdf.dropna()\n",
    "\n",
    "# -- add regression variables\n",
    "subdf[\"injury\"] = subdf[\"injuries\"] > 0\n",
    "subdf[\"datetime\"] = pd.to_datetime(subdf[\"time\"])\n",
    "six = pd.to_datetime(\"6:00\")\n",
    "sixthirty = pd.to_datetime(\"6:30\")\n",
    "ninethirty = pd.to_datetime(\"9:30\")\n",
    "seven = pd.to_datetime(\"19:00\")\n",
    "four = pd.to_datetime(\"16:00\")\n",
    "daytime = ((subdf[\"datetime\"] > six) & (subdf[\"datetime\"] < seven))\n",
    "subdf['date'] = pd.to_datetime(df['CRASH DATE'])\n",
    "subdf['dayofweek'] = subdf['date'].apply(lambda x: x.isoweekday())\n",
    "weekday = subdf['dayofweek'].apply(lambda x: x in range(1,6))\n",
    "subdf['weekday'] = weekday\n",
    "rush_hour = (sixthirty < subdf[\"datetime\"]) & (subdf[\"datetime\"] < ninethirty) | (four < subdf[\"datetime\"]) & (subdf[\"datetime\"] < seven)\n",
    "subdf[\"rush_hour\"] = rush_hour            # backward-compatible\n",
    "subdf[\"rush_hour2\"] = rush_hour & weekday # corrected\n",
    "subdf[\"nighttime\"] = ~daytime\n",
    "\n",
    "# -- boroughs\n",
    "subdf[\"manhattan\"] = subdf[\"borough\"] == \"MANHATTAN\"\n",
    "subdf[\"staten\"] = subdf[\"borough\"] == \"STATEN ISLAND\"\n",
    "subdf[\"queens\"] = subdf[\"borough\"] == \"QUEENS\"\n",
    "subdf[\"brooklyn\"] = subdf[\"borough\"] == \"BROOKLYN\"\n",
    "subdf[\"bronx\"] = subdf[\"borough\"] == \"BRONX\"\n",
    "subdf[\"boro\"] = subdf[\"borough\"].astype('category').cat.codes + 1"
   ]
  },
  {
   "cell_type": "code",
   "execution_count": 11,
   "id": "93af122b",
   "metadata": {},
   "outputs": [
    {
     "data": {
      "text/plain": [
       "38938"
      ]
     },
     "execution_count": 11,
     "metadata": {},
     "output_type": "execute_result"
    }
   ],
   "source": [
    "len(subdf)"
   ]
  },
  {
   "cell_type": "code",
   "execution_count": 12,
   "id": "monthly-partnership",
   "metadata": {},
   "outputs": [
    {
     "name": "stdout",
     "output_type": "stream",
     "text": [
      "weekday       False     True \n",
      "nighttime                    \n",
      "False      0.805896  0.806550\n",
      "True       0.829294  0.815921\n"
     ]
    }
   ],
   "source": [
    "# means\n",
    "print(subdf.groupby(['weekday','nighttime']).injuries.mean().unstack().T)"
   ]
  },
  {
   "cell_type": "code",
   "execution_count": 13,
   "id": "objective-croatia",
   "metadata": {},
   "outputs": [
    {
     "data": {
      "text/html": [
       "<div>\n",
       "<style scoped>\n",
       "    .dataframe tbody tr th:only-of-type {\n",
       "        vertical-align: middle;\n",
       "    }\n",
       "\n",
       "    .dataframe tbody tr th {\n",
       "        vertical-align: top;\n",
       "    }\n",
       "\n",
       "    .dataframe thead th {\n",
       "        text-align: right;\n",
       "    }\n",
       "</style>\n",
       "<table border=\"1\" class=\"dataframe\">\n",
       "  <thead>\n",
       "    <tr style=\"text-align: right;\">\n",
       "      <th>weekday</th>\n",
       "      <th>False</th>\n",
       "      <th>True</th>\n",
       "    </tr>\n",
       "    <tr>\n",
       "      <th>nighttime</th>\n",
       "      <th></th>\n",
       "      <th></th>\n",
       "    </tr>\n",
       "  </thead>\n",
       "  <tbody>\n",
       "    <tr>\n",
       "      <th>False</th>\n",
       "      <td>0.005805</td>\n",
       "      <td>0.003390</td>\n",
       "    </tr>\n",
       "    <tr>\n",
       "      <th>True</th>\n",
       "      <td>0.007135</td>\n",
       "      <td>0.004508</td>\n",
       "    </tr>\n",
       "  </tbody>\n",
       "</table>\n",
       "</div>"
      ],
      "text/plain": [
       "weekday       False     True \n",
       "nighttime                    \n",
       "False      0.005805  0.003390\n",
       "True       0.007135  0.004508"
      ]
     },
     "execution_count": 13,
     "metadata": {},
     "output_type": "execute_result"
    }
   ],
   "source": [
    "# standard error (assuming independence)\n",
    "subdf.groupby(['weekday','nighttime']).injuries.std().unstack().T / subdf.groupby(['weekday','nighttime']).injuries.count().unstack().T**0.5"
   ]
  },
  {
   "cell_type": "code",
   "execution_count": 14,
   "id": "imperial-auckland",
   "metadata": {},
   "outputs": [
    {
     "data": {
      "text/html": [
       "<div>\n",
       "<style scoped>\n",
       "    .dataframe tbody tr th:only-of-type {\n",
       "        vertical-align: middle;\n",
       "    }\n",
       "\n",
       "    .dataframe tbody tr th {\n",
       "        vertical-align: top;\n",
       "    }\n",
       "\n",
       "    .dataframe thead th {\n",
       "        text-align: right;\n",
       "    }\n",
       "</style>\n",
       "<table border=\"1\" class=\"dataframe\">\n",
       "  <thead>\n",
       "    <tr style=\"text-align: right;\">\n",
       "      <th>rush_hour</th>\n",
       "      <th>False</th>\n",
       "      <th>True</th>\n",
       "    </tr>\n",
       "    <tr>\n",
       "      <th>nighttime</th>\n",
       "      <th></th>\n",
       "      <th></th>\n",
       "    </tr>\n",
       "  </thead>\n",
       "  <tbody>\n",
       "    <tr>\n",
       "      <th>False</th>\n",
       "      <td>0.798704</td>\n",
       "      <td>0.814988</td>\n",
       "    </tr>\n",
       "    <tr>\n",
       "      <th>True</th>\n",
       "      <td>0.819765</td>\n",
       "      <td>NaN</td>\n",
       "    </tr>\n",
       "  </tbody>\n",
       "</table>\n",
       "</div>"
      ],
      "text/plain": [
       "rush_hour     False     True \n",
       "nighttime                    \n",
       "False      0.798704  0.814988\n",
       "True       0.819765       NaN"
      ]
     },
     "execution_count": 14,
     "metadata": {},
     "output_type": "execute_result"
    }
   ],
   "source": [
    "# means\n",
    "subdf.groupby(['rush_hour','nighttime']).injuries.mean().unstack().T"
   ]
  },
  {
   "cell_type": "code",
   "execution_count": 15,
   "id": "third-wages",
   "metadata": {},
   "outputs": [
    {
     "data": {
      "text/html": [
       "<div>\n",
       "<style scoped>\n",
       "    .dataframe tbody tr th:only-of-type {\n",
       "        vertical-align: middle;\n",
       "    }\n",
       "\n",
       "    .dataframe tbody tr th {\n",
       "        vertical-align: top;\n",
       "    }\n",
       "\n",
       "    .dataframe thead th {\n",
       "        text-align: right;\n",
       "    }\n",
       "</style>\n",
       "<table border=\"1\" class=\"dataframe\">\n",
       "  <thead>\n",
       "    <tr style=\"text-align: right;\">\n",
       "      <th>weekday</th>\n",
       "      <th>False</th>\n",
       "      <th>True</th>\n",
       "    </tr>\n",
       "    <tr>\n",
       "      <th>rush_hour</th>\n",
       "      <th></th>\n",
       "      <th></th>\n",
       "    </tr>\n",
       "  </thead>\n",
       "  <tbody>\n",
       "    <tr>\n",
       "      <th>False</th>\n",
       "      <td>7329</td>\n",
       "      <td>19453</td>\n",
       "    </tr>\n",
       "    <tr>\n",
       "      <th>True</th>\n",
       "      <td>2505</td>\n",
       "      <td>9651</td>\n",
       "    </tr>\n",
       "  </tbody>\n",
       "</table>\n",
       "</div>"
      ],
      "text/plain": [
       "weekday    False  True \n",
       "rush_hour              \n",
       "False       7329  19453\n",
       "True        2505   9651"
      ]
     },
     "execution_count": 15,
     "metadata": {},
     "output_type": "execute_result"
    }
   ],
   "source": [
    "# means\n",
    "subdf.groupby(['weekday','rush_hour']).injuries.count().unstack().T"
   ]
  },
  {
   "cell_type": "code",
   "execution_count": 16,
   "id": "340142ba",
   "metadata": {},
   "outputs": [
    {
     "data": {
      "text/html": [
       "<div>\n",
       "<style scoped>\n",
       "    .dataframe tbody tr th:only-of-type {\n",
       "        vertical-align: middle;\n",
       "    }\n",
       "\n",
       "    .dataframe tbody tr th {\n",
       "        vertical-align: top;\n",
       "    }\n",
       "\n",
       "    .dataframe thead th {\n",
       "        text-align: right;\n",
       "    }\n",
       "</style>\n",
       "<table border=\"1\" class=\"dataframe\">\n",
       "  <thead>\n",
       "    <tr style=\"text-align: right;\">\n",
       "      <th></th>\n",
       "      <th>time</th>\n",
       "      <th>lat</th>\n",
       "      <th>long</th>\n",
       "      <th>injuries</th>\n",
       "      <th>deaths</th>\n",
       "      <th>bikedeaths</th>\n",
       "      <th>bikeinjuries</th>\n",
       "      <th>borough</th>\n",
       "      <th>zip</th>\n",
       "      <th>injury</th>\n",
       "      <th>...</th>\n",
       "      <th>weekday</th>\n",
       "      <th>rush_hour</th>\n",
       "      <th>rush_hour2</th>\n",
       "      <th>nighttime</th>\n",
       "      <th>manhattan</th>\n",
       "      <th>staten</th>\n",
       "      <th>queens</th>\n",
       "      <th>brooklyn</th>\n",
       "      <th>bronx</th>\n",
       "      <th>boro</th>\n",
       "    </tr>\n",
       "  </thead>\n",
       "  <tbody>\n",
       "    <tr>\n",
       "      <th>69</th>\n",
       "      <td>15:29</td>\n",
       "      <td>40.617945</td>\n",
       "      <td>-74.033311</td>\n",
       "      <td>1.0</td>\n",
       "      <td>0.0</td>\n",
       "      <td>0</td>\n",
       "      <td>1</td>\n",
       "      <td>BROOKLYN</td>\n",
       "      <td>11209.0</td>\n",
       "      <td>True</td>\n",
       "      <td>...</td>\n",
       "      <td>True</td>\n",
       "      <td>False</td>\n",
       "      <td>False</td>\n",
       "      <td>False</td>\n",
       "      <td>False</td>\n",
       "      <td>False</td>\n",
       "      <td>False</td>\n",
       "      <td>True</td>\n",
       "      <td>False</td>\n",
       "      <td>2</td>\n",
       "    </tr>\n",
       "    <tr>\n",
       "      <th>78</th>\n",
       "      <td>16:20</td>\n",
       "      <td>40.760928</td>\n",
       "      <td>-73.969133</td>\n",
       "      <td>0.0</td>\n",
       "      <td>0.0</td>\n",
       "      <td>0</td>\n",
       "      <td>0</td>\n",
       "      <td>MANHATTAN</td>\n",
       "      <td>10022.0</td>\n",
       "      <td>False</td>\n",
       "      <td>...</td>\n",
       "      <td>False</td>\n",
       "      <td>True</td>\n",
       "      <td>False</td>\n",
       "      <td>False</td>\n",
       "      <td>True</td>\n",
       "      <td>False</td>\n",
       "      <td>False</td>\n",
       "      <td>False</td>\n",
       "      <td>False</td>\n",
       "      <td>3</td>\n",
       "    </tr>\n",
       "    <tr>\n",
       "      <th>87</th>\n",
       "      <td>12:30</td>\n",
       "      <td>40.827812</td>\n",
       "      <td>-73.925929</td>\n",
       "      <td>1.0</td>\n",
       "      <td>0.0</td>\n",
       "      <td>0</td>\n",
       "      <td>1</td>\n",
       "      <td>BRONX</td>\n",
       "      <td>10451.0</td>\n",
       "      <td>True</td>\n",
       "      <td>...</td>\n",
       "      <td>False</td>\n",
       "      <td>False</td>\n",
       "      <td>False</td>\n",
       "      <td>False</td>\n",
       "      <td>False</td>\n",
       "      <td>False</td>\n",
       "      <td>False</td>\n",
       "      <td>False</td>\n",
       "      <td>True</td>\n",
       "      <td>1</td>\n",
       "    </tr>\n",
       "    <tr>\n",
       "      <th>97</th>\n",
       "      <td>20:17</td>\n",
       "      <td>40.719585</td>\n",
       "      <td>-73.946991</td>\n",
       "      <td>0.0</td>\n",
       "      <td>0.0</td>\n",
       "      <td>0</td>\n",
       "      <td>0</td>\n",
       "      <td>BROOKLYN</td>\n",
       "      <td>11222.0</td>\n",
       "      <td>False</td>\n",
       "      <td>...</td>\n",
       "      <td>False</td>\n",
       "      <td>False</td>\n",
       "      <td>False</td>\n",
       "      <td>True</td>\n",
       "      <td>False</td>\n",
       "      <td>False</td>\n",
       "      <td>False</td>\n",
       "      <td>True</td>\n",
       "      <td>False</td>\n",
       "      <td>2</td>\n",
       "    </tr>\n",
       "    <tr>\n",
       "      <th>107</th>\n",
       "      <td>17:56</td>\n",
       "      <td>40.649522</td>\n",
       "      <td>-73.955789</td>\n",
       "      <td>1.0</td>\n",
       "      <td>0.0</td>\n",
       "      <td>0</td>\n",
       "      <td>1</td>\n",
       "      <td>BROOKLYN</td>\n",
       "      <td>11226.0</td>\n",
       "      <td>True</td>\n",
       "      <td>...</td>\n",
       "      <td>True</td>\n",
       "      <td>True</td>\n",
       "      <td>True</td>\n",
       "      <td>False</td>\n",
       "      <td>False</td>\n",
       "      <td>False</td>\n",
       "      <td>False</td>\n",
       "      <td>True</td>\n",
       "      <td>False</td>\n",
       "      <td>2</td>\n",
       "    </tr>\n",
       "  </tbody>\n",
       "</table>\n",
       "<p>5 rows × 23 columns</p>\n",
       "</div>"
      ],
      "text/plain": [
       "      time        lat       long  injuries  deaths  bikedeaths  bikeinjuries  \\\n",
       "69   15:29  40.617945 -74.033311       1.0     0.0           0             1   \n",
       "78   16:20  40.760928 -73.969133       0.0     0.0           0             0   \n",
       "87   12:30  40.827812 -73.925929       1.0     0.0           0             1   \n",
       "97   20:17  40.719585 -73.946991       0.0     0.0           0             0   \n",
       "107  17:56  40.649522 -73.955789       1.0     0.0           0             1   \n",
       "\n",
       "       borough      zip  injury  ... weekday rush_hour  rush_hour2  nighttime  \\\n",
       "69    BROOKLYN  11209.0    True  ...    True     False       False      False   \n",
       "78   MANHATTAN  10022.0   False  ...   False      True       False      False   \n",
       "87       BRONX  10451.0    True  ...   False     False       False      False   \n",
       "97    BROOKLYN  11222.0   False  ...   False     False       False       True   \n",
       "107   BROOKLYN  11226.0    True  ...    True      True        True      False   \n",
       "\n",
       "     manhattan  staten  queens  brooklyn  bronx  boro  \n",
       "69       False   False   False      True  False     2  \n",
       "78        True   False   False     False  False     3  \n",
       "87       False   False   False     False   True     1  \n",
       "97       False   False   False      True  False     2  \n",
       "107      False   False   False      True  False     2  \n",
       "\n",
       "[5 rows x 23 columns]"
      ]
     },
     "execution_count": 16,
     "metadata": {},
     "output_type": "execute_result"
    }
   ],
   "source": [
    "subdf.head()"
   ]
  },
  {
   "cell_type": "code",
   "execution_count": 17,
   "id": "0ec08194",
   "metadata": {},
   "outputs": [
    {
     "data": {
      "text/plain": [
       "5.136370640505419e-05"
      ]
     },
     "execution_count": 17,
     "metadata": {},
     "output_type": "execute_result"
    }
   ],
   "source": [
    "(subdf[\"injuries\"] < subdf[\"bikeinjuries\"]).mean()"
   ]
  },
  {
   "cell_type": "code",
   "execution_count": 18,
   "id": "3358e3b3",
   "metadata": {},
   "outputs": [
    {
     "data": {
      "text/plain": [
       "0.9611433561045765"
      ]
     },
     "execution_count": 18,
     "metadata": {},
     "output_type": "execute_result"
    }
   ],
   "source": [
    "(subdf[\"injuries\"] == subdf[\"bikeinjuries\"]).mean()"
   ]
  },
  {
   "cell_type": "markdown",
   "id": "5bd13e37",
   "metadata": {},
   "source": [
    "we can see that almost all injuries in bike-involved crashes are on the part of the cyclist"
   ]
  },
  {
   "cell_type": "code",
   "execution_count": 19,
   "id": "c288ab06",
   "metadata": {},
   "outputs": [
    {
     "data": {
      "text/plain": [
       "0.9998715907339873"
      ]
     },
     "execution_count": 19,
     "metadata": {},
     "output_type": "execute_result"
    }
   ],
   "source": [
    "(subdf[\"deaths\"] == subdf[\"bikedeaths\"]).mean()"
   ]
  },
  {
   "cell_type": "code",
   "execution_count": 20,
   "id": "348337bb",
   "metadata": {},
   "outputs": [],
   "source": [
    "# -- zip code processing\n",
    "children = yaml.safe_load(open(\"../data/children.yaml\", \"r\"))\n",
    "adj = yaml.safe_load(open(\"../data/parentadj.yaml\", \"r\"))"
   ]
  },
  {
   "cell_type": "code",
   "execution_count": 21,
   "id": "fe2d20ce",
   "metadata": {},
   "outputs": [],
   "source": [
    "parents = {child: parent for parent, cs in children.items() for child in cs}"
   ]
  },
  {
   "cell_type": "code",
   "execution_count": 22,
   "id": "2de2871d",
   "metadata": {},
   "outputs": [],
   "source": [
    "subdf[\"pzip\"] = [parents[int(z)] if int(z) in parents else z for z in subdf[\"zip\"]]"
   ]
  },
  {
   "cell_type": "code",
   "execution_count": 23,
   "id": "6845c155",
   "metadata": {},
   "outputs": [],
   "source": [
    "allnodes = set([v for a, b in adj.items() for v in (a, *b)])"
   ]
  },
  {
   "cell_type": "code",
   "execution_count": 24,
   "id": "cecacd18",
   "metadata": {},
   "outputs": [],
   "source": [
    "validzip = [z in allnodes for z in subdf[\"pzip\"]]"
   ]
  },
  {
   "cell_type": "code",
   "execution_count": 25,
   "id": "0dce13a4",
   "metadata": {},
   "outputs": [
    {
     "data": {
      "text/plain": [
       "0.9897529405721917"
      ]
     },
     "execution_count": 25,
     "metadata": {},
     "output_type": "execute_result"
    }
   ],
   "source": [
    "np.mean(validzip)"
   ]
  },
  {
   "cell_type": "code",
   "execution_count": 26,
   "id": "61371be4",
   "metadata": {},
   "outputs": [],
   "source": [
    "subdf = subdf[validzip]"
   ]
  },
  {
   "cell_type": "code",
   "execution_count": 27,
   "id": "3132c151",
   "metadata": {},
   "outputs": [],
   "source": [
    "subdf.to_csv(\"../data/bikedf.csv.gz\")"
   ]
  },
  {
   "cell_type": "code",
   "execution_count": null,
   "id": "77b38f15",
   "metadata": {},
   "outputs": [],
   "source": []
  }
 ],
 "metadata": {
  "kernelspec": {
   "display_name": "Python 3",
   "language": "python",
   "name": "python3"
  },
  "language_info": {
   "codemirror_mode": {
    "name": "ipython",
    "version": 3
   },
   "file_extension": ".py",
   "mimetype": "text/x-python",
   "name": "python",
   "nbconvert_exporter": "python",
   "pygments_lexer": "ipython3",
   "version": "3.8.8"
  }
 },
 "nbformat": 4,
 "nbformat_minor": 5
}
