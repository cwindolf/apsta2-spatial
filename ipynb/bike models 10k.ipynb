{
 "cells": [
  {
   "cell_type": "code",
   "execution_count": 1,
   "id": "92214855",
   "metadata": {},
   "outputs": [],
   "source": [
    "import cmdstanpy as stan\n",
    "import joblib\n",
    "import matplotlib.pyplot as plt\n",
    "import numpy as np\n",
    "import pandas as pd\n",
    "from pathlib import Path\n",
    "from scipy.stats import poisson, geom\n",
    "import seaborn as sns\n",
    "import shapefile\n",
    "import shelve\n",
    "from tqdm import tqdm\n",
    "import ujson\n",
    "import yaml"
   ]
  },
  {
   "cell_type": "code",
   "execution_count": 2,
   "id": "032d6715",
   "metadata": {},
   "outputs": [],
   "source": [
    "rg = np.random.default_rng(1)"
   ]
  },
  {
   "cell_type": "markdown",
   "id": "c687d131",
   "metadata": {},
   "source": [
    "## Zip code adjacency"
   ]
  },
  {
   "cell_type": "code",
   "execution_count": 3,
   "id": "40b62c9f",
   "metadata": {},
   "outputs": [],
   "source": [
    "pz_adj = yaml.safe_load(open(\"../data/parentadj.yaml\", \"r\"))"
   ]
  },
  {
   "cell_type": "code",
   "execution_count": 4,
   "id": "0a5a8e1b",
   "metadata": {},
   "outputs": [
    {
     "data": {
      "text/plain": [
       "180"
      ]
     },
     "execution_count": 4,
     "metadata": {},
     "output_type": "execute_result"
    }
   ],
   "source": [
    "allpzs = list(sorted(set(v for a, b in pz_adj.items() for v in (a, *b))))\n",
    "pz_edges = set(\n",
    "    (int(a), int(b)) if a <= b else (int(b), int(a))\n",
    "    for a, bs in pz_adj.items()\n",
    "    for b in bs\n",
    ")\n",
    "Nzips = len(allpzs)\n",
    "Nzips"
   ]
  },
  {
   "cell_type": "code",
   "execution_count": 5,
   "id": "606873df",
   "metadata": {},
   "outputs": [],
   "source": [
    "pz2i = {pz: i for i, pz in enumerate(allpzs, 1)}\n",
    "i2pz = dict(enumerate(allpzs, 1))"
   ]
  },
  {
   "cell_type": "code",
   "execution_count": 6,
   "id": "d091701a",
   "metadata": {},
   "outputs": [
    {
     "data": {
      "text/plain": [
       "(379, 379)"
      ]
     },
     "execution_count": 6,
     "metadata": {},
     "output_type": "execute_result"
    }
   ],
   "source": [
    "i_edges = [(pz2i[pza], pz2i[pzb]) for pza, pzb in pz_edges]\n",
    "node1, node2 = map(list, zip(*i_edges))\n",
    "N_edges = len(node1)\n",
    "N_edges, len(i_edges)"
   ]
  },
  {
   "cell_type": "code",
   "execution_count": 7,
   "id": "af2f9c28",
   "metadata": {},
   "outputs": [],
   "source": [
    "A = np.zeros((Nzips, Nzips))\n",
    "for i, j in i_edges:\n",
    "    A[i - 1, j - 1] = A[j - 1, i - 1] = 1\n",
    "np.savetxt(\"A.csv\", A)"
   ]
  },
  {
   "cell_type": "code",
   "execution_count": 8,
   "id": "99f69567",
   "metadata": {},
   "outputs": [],
   "source": [
    "# computed in R from A -- see info in BYM block below\n",
    "scaling_factor = 0.8698889"
   ]
  },
  {
   "cell_type": "markdown",
   "id": "90fff698",
   "metadata": {},
   "source": [
    "## Data loading and subsampling"
   ]
  },
  {
   "cell_type": "code",
   "execution_count": 9,
   "id": "eb5628b7",
   "metadata": {},
   "outputs": [],
   "source": [
    "bikedf = pd.read_csv(\"../data/bikedf.csv.gz\")"
   ]
  },
  {
   "cell_type": "code",
   "execution_count": 10,
   "id": "20adda56",
   "metadata": {},
   "outputs": [],
   "source": [
    "bikedf[\"rush_hour\"] = bikedf[\"rush_hour2\"]"
   ]
  },
  {
   "cell_type": "code",
   "execution_count": 11,
   "id": "512c61a5",
   "metadata": {},
   "outputs": [],
   "source": [
    "bikedf[\"pzi\"] = [pz2i[int(z)] for z in bikedf[\"pzip\"]]"
   ]
  },
  {
   "cell_type": "code",
   "execution_count": 12,
   "id": "48bd9635",
   "metadata": {},
   "outputs": [],
   "source": [
    "def get_sample(N=None):\n",
    "    if N is not None:\n",
    "        s = bikedf.sample(N, random_state=rg.bit_generator)\n",
    "    else:\n",
    "        s = bikedf\n",
    "    return s, {\n",
    "        \"N\": len(s),\n",
    "        \"Nzips\": Nzips,\n",
    "        \"N_edges\": N_edges,\n",
    "        \"B\": 5,\n",
    "        \"scaling_factor\": scaling_factor,\n",
    "        \"nighttime\": s[\"nighttime\"].values.astype(int).tolist(),\n",
    "        \"rush_hour\": s[\"rush_hour\"].values.astype(int).tolist(),\n",
    "        \"manhattan\": s[\"manhattan\"].values.astype(int).tolist(),\n",
    "        \"staten\": s[\"staten\"].values.astype(int).tolist(),\n",
    "        \"brooklyn\": s[\"brooklyn\"].values.astype(int).tolist(),\n",
    "        \"queens\": s[\"queens\"].values.astype(int).tolist(),\n",
    "        \"bronx\": s[\"bronx\"].values.astype(int).tolist(),\n",
    "        \"borough\": s[\"boro\"].values.astype(int).tolist(),\n",
    "        \"injury\": s[\"injury\"].values.astype(int).tolist(),\n",
    "        \"latitude\": s[\"lat\"].values.tolist(),\n",
    "        \"longitude\": s[\"long\"].values.tolist(),\n",
    "        \"neighborhood\": s[\"pzi\"].values.tolist(),\n",
    "        \"node1\": node1,\n",
    "        \"node2\": node2,\n",
    "    }"
   ]
  },
  {
   "cell_type": "code",
   "execution_count": 13,
   "id": "180ca5c6",
   "metadata": {},
   "outputs": [],
   "source": [
    "sample_df, sample = get_sample(10000)\n",
    "nighttime = np.array(sample[\"nighttime\"]).astype(bool)\n",
    "injury = np.array(sample[\"injury\"])\n",
    "rush_hour = np.array(sample[\"rush_hour\"]).astype(bool)\n",
    "manhattan = np.array(sample[\"manhattan\"]).astype(bool)\n",
    "brooklyn = np.array(sample[\"brooklyn\"]).astype(bool)\n",
    "queens = np.array(sample[\"queens\"]).astype(bool)\n",
    "bronx = np.array(sample[\"bronx\"]).astype(bool)\n",
    "borough = np.array(sample[\"borough\"])\n",
    "latitude = np.array(sample[\"latitude\"])\n",
    "longitude = np.array(sample[\"longitude\"])\n",
    "staten = np.array(sample[\"staten\"]).astype(bool)\n",
    "bike_data = '/tmp/10k_bikedata.json'\n",
    "with open(bike_data, 'w') as f:\n",
    "    f.write(ujson.dumps(sample))"
   ]
  },
  {
   "cell_type": "markdown",
   "id": "9b64cba7",
   "metadata": {},
   "source": [
    "## Stan helper library"
   ]
  },
  {
   "cell_type": "code",
   "execution_count": 14,
   "id": "3fc7076b",
   "metadata": {},
   "outputs": [],
   "source": [
    "def get_model(path, code):\n",
    "    with open(path, \"w\") as f:\n",
    "        f.write(code)\n",
    "    model = stan.CmdStanModel(stan_file=path)\n",
    "    return model"
   ]
  },
  {
   "cell_type": "markdown",
   "id": "30c6da6b",
   "metadata": {},
   "source": [
    "## Model code / Stan fitting\n",
    "\n",
    "We'll fit the models here and make plots at the bottom."
   ]
  },
  {
   "cell_type": "markdown",
   "id": "53f6ce45",
   "metadata": {},
   "source": [
    "### Global model -- no spatial / borough aspect"
   ]
  },
  {
   "cell_type": "code",
   "execution_count": 15,
   "id": "073c9a21",
   "metadata": {},
   "outputs": [
    {
     "name": "stderr",
     "output_type": "stream",
     "text": [
      "INFO:cmdstanpy:compiling stan program, exe file: /Users/charlie/Desktop/apsta2/apsta-proj/ipynb/10k_stan/bike_glob\n",
      "INFO:cmdstanpy:compiler options: stanc_options=None, cpp_options=None\n",
      "INFO:cmdstanpy:compiled model file: /Users/charlie/Desktop/apsta2/apsta-proj/ipynb/10k_stan/bike_glob\n"
     ]
    }
   ],
   "source": [
    "glob = get_model(\"10k_stan/bike_glob.stan\",\n",
    "'''\n",
    "data {\n",
    "  int<lower=0> N;\n",
    "  int<lower=0,upper=1> nighttime[N];\n",
    "  int<lower=0,upper=1> rush_hour[N];\n",
    "  int<lower=0,upper=1> injury[N];\n",
    "}\n",
    "parameters {\n",
    "  real b_nighttime;\n",
    "  real b_rush_hour;\n",
    "  real intercept;\n",
    "}\n",
    "model {\n",
    "  injury ~ bernoulli_logit(\n",
    "      b_nighttime * to_vector(nighttime)\n",
    "      + b_rush_hour * to_vector(rush_hour)\n",
    "      + intercept\n",
    "  );\n",
    "  intercept ~ normal(0, 1);\n",
    "  b_nighttime ~ normal(0, 1);\n",
    "  b_rush_hour ~ normal(0, 1);\n",
    "}\n",
    "generated quantities {\n",
    "  vector[N] pred_means;\n",
    "  pred_means = inv_logit(\n",
    "      b_nighttime * to_vector(nighttime)\n",
    "      + b_rush_hour * to_vector(rush_hour)\n",
    "      + intercept\n",
    "  );\n",
    "  vector[N] residuals = to_vector(injury) - pred_means;\n",
    "  int injury_rep[N] = bernoulli_rng(pred_means);\n",
    "}\n",
    "''')"
   ]
  },
  {
   "cell_type": "code",
   "execution_count": 16,
   "id": "d21f2fa0",
   "metadata": {},
   "outputs": [
    {
     "name": "stderr",
     "output_type": "stream",
     "text": [
      "INFO:cmdstanpy:start chain 1\n",
      "INFO:cmdstanpy:start chain 2\n",
      "INFO:cmdstanpy:start chain 3\n",
      "INFO:cmdstanpy:start chain 4\n",
      "INFO:cmdstanpy:finish chain 4\n",
      "INFO:cmdstanpy:finish chain 1\n",
      "INFO:cmdstanpy:finish chain 2\n",
      "INFO:cmdstanpy:finish chain 3\n"
     ]
    }
   ],
   "source": [
    "glob_fit = glob.sample(data=bike_data, output_dir='10k_stan_output')"
   ]
  },
  {
   "cell_type": "markdown",
   "id": "47c271ae",
   "metadata": {},
   "source": [
    "### Borough-by-borough model, separate model for each borough"
   ]
  },
  {
   "cell_type": "code",
   "execution_count": 17,
   "id": "8e638cf4",
   "metadata": {},
   "outputs": [
    {
     "name": "stderr",
     "output_type": "stream",
     "text": [
      "INFO:cmdstanpy:compiling stan program, exe file: /Users/charlie/Desktop/apsta2/apsta-proj/ipynb/10k_stan/bike_nopool\n",
      "INFO:cmdstanpy:compiler options: stanc_options=None, cpp_options=None\n",
      "INFO:cmdstanpy:compiled model file: /Users/charlie/Desktop/apsta2/apsta-proj/ipynb/10k_stan/bike_nopool\n"
     ]
    }
   ],
   "source": [
    "nopool = get_model(\"10k_stan/bike_nopool.stan\",\n",
    "'''\n",
    "data {\n",
    "  int<lower=0> N;\n",
    "  int<lower=0> B; \n",
    "  int<lower=0,upper=1> nighttime[N];\n",
    "  int<lower=0,upper=1> rush_hour[N];\n",
    "  int<lower=1,upper=B> borough[N];\n",
    "  int<lower=0,upper=1> injury[N];\n",
    "}\n",
    "parameters {\n",
    "  real b_nighttime[B];\n",
    "  real b_rush_hour[B];\n",
    "  real intercept[B];\n",
    "}\n",
    "model {\n",
    "  injury ~ bernoulli_logit(\n",
    "    to_vector(b_nighttime[borough]) .* to_vector(nighttime)\n",
    "    + to_vector(b_rush_hour[borough]) .* to_vector(rush_hour)\n",
    "    + to_vector(intercept[borough])\n",
    "  );\n",
    "  intercept ~ normal(0, 1);\n",
    "  b_nighttime ~ normal(0, 1);\n",
    "  b_rush_hour ~ normal(0, 1);\n",
    "}\n",
    "generated quantities {\n",
    "  vector[N] pred_means = inv_logit(\n",
    "    to_vector(b_nighttime[borough]) .* to_vector(nighttime)\n",
    "    + to_vector(b_rush_hour[borough]) .* to_vector(rush_hour)\n",
    "    + to_vector(intercept[borough])\n",
    "  );\n",
    "  vector[N] residuals = to_vector(injury) - pred_means;\n",
    "  int injury_rep[N] = bernoulli_rng(pred_means);\n",
    "}\n",
    "''')"
   ]
  },
  {
   "cell_type": "code",
   "execution_count": 18,
   "id": "f4a4ee67",
   "metadata": {},
   "outputs": [
    {
     "name": "stderr",
     "output_type": "stream",
     "text": [
      "INFO:cmdstanpy:start chain 1\n",
      "INFO:cmdstanpy:start chain 2\n",
      "INFO:cmdstanpy:start chain 3\n",
      "INFO:cmdstanpy:start chain 4\n",
      "INFO:cmdstanpy:finish chain 2\n",
      "INFO:cmdstanpy:finish chain 4\n",
      "INFO:cmdstanpy:finish chain 1\n",
      "INFO:cmdstanpy:finish chain 3\n"
     ]
    }
   ],
   "source": [
    "nopool_fit = nopool.sample(data=bike_data, output_dir='10k_stan_output')"
   ]
  },
  {
   "cell_type": "markdown",
   "id": "d73f1f26",
   "metadata": {},
   "source": [
    "### Boroughs with pooling"
   ]
  },
  {
   "cell_type": "code",
   "execution_count": 19,
   "id": "fcf683d6",
   "metadata": {},
   "outputs": [
    {
     "name": "stderr",
     "output_type": "stream",
     "text": [
      "INFO:cmdstanpy:compiling stan program, exe file: /Users/charlie/Desktop/apsta2/apsta-proj/ipynb/10k_stan/bike_pool\n",
      "INFO:cmdstanpy:compiler options: stanc_options=None, cpp_options=None\n",
      "INFO:cmdstanpy:compiled model file: /Users/charlie/Desktop/apsta2/apsta-proj/ipynb/10k_stan/bike_pool\n"
     ]
    }
   ],
   "source": [
    "pool = get_model(\"10k_stan/bike_pool.stan\",\n",
    "'''\n",
    "data {\n",
    "  int<lower=0> N;\n",
    "  int<lower=0> B; \n",
    "  int<lower=0,upper=1> nighttime[N];\n",
    "  int<lower=0,upper=1> rush_hour[N];\n",
    "  int<lower=1,upper=B> borough[N];\n",
    "  int<lower=0,upper=1> injury[N];\n",
    "}\n",
    "parameters {\n",
    "  real mu_nighttime;\n",
    "  real mu_rush_hour;\n",
    "  real mu_intercept;\n",
    "  real<lower=0> sigma_nighttime;\n",
    "  real<lower=0> sigma_rush_hour;\n",
    "  real<lower=0> sigma_intercept;\n",
    "  real b_nighttime[B];\n",
    "  real b_rush_hour[B];\n",
    "  real intercept[B];\n",
    "}\n",
    "model {  \n",
    "  b_nighttime ~ normal(mu_nighttime, sigma_nighttime);\n",
    "  b_rush_hour ~ normal(mu_rush_hour, sigma_rush_hour);\n",
    "  intercept ~ normal(mu_intercept, sigma_intercept);\n",
    "  mu_nighttime ~ normal(0, 1);\n",
    "  mu_rush_hour ~ normal(0, 1);\n",
    "  mu_intercept ~ normal(0, 1);\n",
    "  \n",
    "  injury ~ bernoulli_logit(\n",
    "    to_vector(b_nighttime[borough]) .* to_vector(nighttime)\n",
    "    + to_vector(b_rush_hour[borough]) .* to_vector(rush_hour)\n",
    "    + to_vector(intercept[borough])\n",
    "  );\n",
    "}\n",
    "generated quantities {\n",
    "  vector[N] pred_means = inv_logit(\n",
    "    to_vector(b_nighttime[borough]) .* to_vector(nighttime)\n",
    "    + to_vector(b_rush_hour[borough]) .* to_vector(rush_hour)\n",
    "    + to_vector(intercept[borough])\n",
    "  );\n",
    "  vector[N] residuals = to_vector(injury) - pred_means;\n",
    "  int injury_rep[N] = bernoulli_rng(pred_means);\n",
    "}\n",
    "''')"
   ]
  },
  {
   "cell_type": "code",
   "execution_count": 20,
   "id": "808308b4",
   "metadata": {},
   "outputs": [
    {
     "name": "stderr",
     "output_type": "stream",
     "text": [
      "INFO:cmdstanpy:start chain 1\n",
      "INFO:cmdstanpy:start chain 2\n",
      "INFO:cmdstanpy:start chain 3\n",
      "INFO:cmdstanpy:start chain 4\n",
      "INFO:cmdstanpy:finish chain 1\n",
      "INFO:cmdstanpy:finish chain 2\n",
      "INFO:cmdstanpy:finish chain 3\n",
      "INFO:cmdstanpy:finish chain 4\n"
     ]
    }
   ],
   "source": [
    "pool_fit = pool.sample(data=bike_data, output_dir='10k_stan_output')"
   ]
  },
  {
   "cell_type": "markdown",
   "id": "0f8b4102",
   "metadata": {},
   "source": [
    "### ICAR by zip code"
   ]
  },
  {
   "cell_type": "code",
   "execution_count": 21,
   "id": "a3eda7c0",
   "metadata": {},
   "outputs": [
    {
     "name": "stderr",
     "output_type": "stream",
     "text": [
      "INFO:cmdstanpy:compiling stan program, exe file: /Users/charlie/Desktop/apsta2/apsta-proj/ipynb/10k_stan/bike_icar\n",
      "INFO:cmdstanpy:compiler options: stanc_options=None, cpp_options=None\n",
      "INFO:cmdstanpy:compiled model file: /Users/charlie/Desktop/apsta2/apsta-proj/ipynb/10k_stan/bike_icar\n"
     ]
    }
   ],
   "source": [
    "icar = get_model(\"10k_stan/bike_icar.stan\",\n",
    "'''\n",
    "functions {\n",
    "  real icar_normal_lpdf(vector phi, int[] node1, int[] node2) {\n",
    "    return (\n",
    "      -0.5 * dot_self(phi[node1] - phi[node2])\n",
    "      + normal_lpdf(sum(phi) | 0, 0.01 * rows(phi))\n",
    "    );\n",
    "  }\n",
    "}\n",
    "\n",
    "data {\n",
    "  int<lower=0> N;\n",
    "  int<lower=0> Nzips;\n",
    "  int<lower=0> N_edges;\n",
    "  int<lower=0, upper=Nzips> neighborhood[N];\n",
    "  int<lower=1, upper=N> node1[N_edges];\n",
    "  int<lower=1, upper=N> node2[N_edges];\n",
    "  int<lower=0, upper=1> injury[N];\n",
    "  int<lower=0,upper=1> nighttime[N];\n",
    "  int<lower=0,upper=1> rush_hour[N];\n",
    "}\n",
    "\n",
    "parameters {\n",
    "  real<lower=0> sigma_phi;\n",
    "  vector[Nzips] phi;\n",
    "  real b_nighttime;\n",
    "  real b_rush_hour;\n",
    "  real intercept;\n",
    "}\n",
    "\n",
    "model {\n",
    "  injury ~ bernoulli_logit(\n",
    "      intercept\n",
    "      + phi[neighborhood] * sigma_phi\n",
    "      + b_nighttime * to_vector(nighttime)\n",
    "      + b_rush_hour * to_vector(rush_hour)\n",
    "    );\n",
    "    \n",
    "  phi ~ icar_normal(node1, node2);\n",
    "  sigma_phi ~ normal(0, 5);\n",
    "  intercept ~ normal(0, 1);\n",
    "  b_nighttime ~ normal(0, 1);\n",
    "  b_rush_hour ~ normal(0, 1);\n",
    "}\n",
    "\n",
    "generated quantities {\n",
    "  vector[N] pred_means = inv_logit(\n",
    "    intercept\n",
    "    + (phi * sigma_phi)[neighborhood]\n",
    "    + b_nighttime * to_vector(nighttime)\n",
    "    + b_rush_hour * to_vector(rush_hour)\n",
    "  );\n",
    "  vector[N] residuals = to_vector(injury) - pred_means;\n",
    "  vector[Nzips] zip_pred_means = inv_logit(\n",
    "    intercept\n",
    "    + phi * sigma_phi\n",
    "  );\n",
    "  int injury_rep[N] = bernoulli_rng(pred_means);\n",
    "}\n",
    "''')"
   ]
  },
  {
   "cell_type": "code",
   "execution_count": 22,
   "id": "da48f291",
   "metadata": {},
   "outputs": [
    {
     "name": "stderr",
     "output_type": "stream",
     "text": [
      "INFO:cmdstanpy:start chain 1\n",
      "INFO:cmdstanpy:start chain 2\n",
      "INFO:cmdstanpy:start chain 3\n",
      "INFO:cmdstanpy:start chain 4\n",
      "INFO:cmdstanpy:finish chain 4\n",
      "INFO:cmdstanpy:finish chain 2\n",
      "INFO:cmdstanpy:finish chain 3\n",
      "INFO:cmdstanpy:finish chain 1\n"
     ]
    }
   ],
   "source": [
    "icar_fit = icar.sample(data=bike_data, output_dir='10k_stan_output')"
   ]
  },
  {
   "cell_type": "markdown",
   "id": "689c9b9d",
   "metadata": {},
   "source": [
    "## Besag-York-Mollié\n",
    "\n",
    "see Gelman article https://pubmed.ncbi.nlm.nih.gov/31677766/ pdf at http://www.stat.columbia.edu/~gelman/research/published/bym_article_SSTEproof.pdf\n",
    "\n",
    "this is BYM2 described in that article\n",
    "\n",
    "idea: add a non-spatially-correlated noise modeling term to handle the overdispersion in the ~~Poisson~~ logistic regression model"
   ]
  },
  {
   "cell_type": "code",
   "execution_count": 23,
   "id": "85b7a14c",
   "metadata": {},
   "outputs": [],
   "source": [
    "# need to compute this $s$ aka `scaling_factor`\n",
    "# paper says they use https://rdrr.io/github/INBO-BMK/INLA/man/scale.model.html to compute it\n",
    "# I used M. Morris code at https://github.com/stan-dev/example-models/blob/master/knitr/car-iar-poisson/update_2021_02/bym2_helpers.R\n",
    "# variable definition appears at the top so that this is stored in the json\n",
    "# so we can pass to stan in the data block\n",
    "# scaling_factor = 0.8698889"
   ]
  },
  {
   "cell_type": "code",
   "execution_count": 24,
   "id": "9aa4c42c",
   "metadata": {},
   "outputs": [
    {
     "name": "stderr",
     "output_type": "stream",
     "text": [
      "INFO:cmdstanpy:compiling stan program, exe file: /Users/charlie/Desktop/apsta2/apsta-proj/ipynb/10k_stan/bike_bym\n",
      "INFO:cmdstanpy:compiler options: stanc_options=None, cpp_options=None\n",
      "INFO:cmdstanpy:compiled model file: /Users/charlie/Desktop/apsta2/apsta-proj/ipynb/10k_stan/bike_bym\n"
     ]
    }
   ],
   "source": [
    "bym = get_model(\"10k_stan/bike_bym.stan\",\n",
    "'''\n",
    "functions {\n",
    "  real icar_normal_lpdf(vector phi, int[] node1, int[] node2) {\n",
    "    return (\n",
    "      -0.5 * dot_self(phi[node1] - phi[node2])\n",
    "      + normal_lpdf(sum(phi) | 0, 0.01 * rows(phi))\n",
    "    );\n",
    "  }\n",
    "}\n",
    "\n",
    "data {\n",
    "  int<lower=0> N;\n",
    "  int<lower=0> Nzips;\n",
    "  int<lower=0> N_edges;\n",
    "  int<lower=0, upper=Nzips> neighborhood[N];\n",
    "  int<lower=1, upper=N> node1[N_edges];\n",
    "  int<lower=1, upper=N> node2[N_edges];\n",
    "  int<lower=0, upper=1> injury[N];\n",
    "  int<lower=0,upper=1> nighttime[N];\n",
    "  int<lower=0,upper=1> rush_hour[N];\n",
    "  real<lower=0> scaling_factor;\n",
    "}\n",
    "\n",
    "parameters {\n",
    "  // real logit_rho;\n",
    "  real<lower=0, upper=1> rho;\n",
    "  vector[Nzips] phi;         // spatial effects\n",
    "  vector[Nzips] theta;       // heterogeneous effects\n",
    "  real<lower=0> sigma_bym;\n",
    "  \n",
    "  real b_nighttime;\n",
    "  real b_rush_hour;\n",
    "  real intercept;\n",
    "}\n",
    "\n",
    "transformed parameters {\n",
    "  vector[Nzips] convolved_re = sigma_bym * (\n",
    "    sqrt(rho / scaling_factor) * phi\n",
    "    + sqrt(1 - rho) * theta\n",
    "  );\n",
    "}\n",
    "\n",
    "model {\n",
    "  injury ~ bernoulli_logit(  \n",
    "    intercept\n",
    "    + b_nighttime * to_vector(nighttime)\n",
    "    + b_rush_hour * to_vector(rush_hour)\n",
    "    + convolved_re[neighborhood]\n",
    "  );\n",
    "\n",
    "  intercept ~ normal(0, 1);\n",
    "  b_nighttime ~ normal(0, 1);\n",
    "  b_rush_hour ~ normal(0, 1);\n",
    "  \n",
    "  rho ~ beta(0.5, 0.5);\n",
    "  sigma_bym ~ normal(0, 5);\n",
    "  theta ~ normal(0, 1);\n",
    "  phi ~ icar_normal(node1, node2);\n",
    "}\n",
    "\n",
    "generated quantities {\n",
    "  vector[N] pred_means = inv_logit(\n",
    "    intercept\n",
    "    + b_nighttime * to_vector(nighttime)\n",
    "    + b_rush_hour * to_vector(rush_hour)\n",
    "    + convolved_re[neighborhood]\n",
    "  );\n",
    "  vector[N] residuals = to_vector(injury) - pred_means;\n",
    "  vector[Nzips] zip_pred_means = inv_logit(\n",
    "    intercept\n",
    "    + convolved_re[neighborhood] * sigma_bym\n",
    "  );\n",
    "  int injury_rep[N] = bernoulli_rng(pred_means);\n",
    "}\n",
    "''')"
   ]
  },
  {
   "cell_type": "code",
   "execution_count": 25,
   "id": "771624d0",
   "metadata": {
    "scrolled": true
   },
   "outputs": [
    {
     "name": "stderr",
     "output_type": "stream",
     "text": [
      "INFO:cmdstanpy:start chain 1\n",
      "INFO:cmdstanpy:start chain 2\n",
      "INFO:cmdstanpy:start chain 3\n",
      "INFO:cmdstanpy:start chain 4\n",
      "INFO:cmdstanpy:finish chain 1\n",
      "INFO:cmdstanpy:finish chain 2\n",
      "INFO:cmdstanpy:finish chain 4\n",
      "INFO:cmdstanpy:finish chain 3\n"
     ]
    }
   ],
   "source": [
    "bym_fit = bym.sample(data=bike_data, output_dir='10k_stan_output')"
   ]
  },
  {
   "cell_type": "markdown",
   "id": "0e1ff077",
   "metadata": {},
   "source": [
    "## Zip code pooling model"
   ]
  },
  {
   "cell_type": "code",
   "execution_count": 26,
   "id": "fb4b9278",
   "metadata": {},
   "outputs": [
    {
     "name": "stderr",
     "output_type": "stream",
     "text": [
      "INFO:cmdstanpy:compiling stan program, exe file: /Users/charlie/Desktop/apsta2/apsta-proj/ipynb/10k_stan/bike_zippool\n",
      "INFO:cmdstanpy:compiler options: stanc_options=None, cpp_options=None\n",
      "INFO:cmdstanpy:compiled model file: /Users/charlie/Desktop/apsta2/apsta-proj/ipynb/10k_stan/bike_zippool\n"
     ]
    }
   ],
   "source": [
    "zippool = get_model(\"10k_stan/bike_zippool.stan\",\n",
    "'''\n",
    "data {\n",
    "  int<lower=0> N;\n",
    "  int<lower=0> Nzips; \n",
    "  int<lower=0,upper=1> nighttime[N];\n",
    "  int<lower=0,upper=1> rush_hour[N];\n",
    "  int<lower=1,upper=Nzips> neighborhood[N];\n",
    "  int<lower=0,upper=1> injury[N];\n",
    "}\n",
    "parameters {\n",
    "  real mu_nighttime;\n",
    "  real mu_rush_hour;\n",
    "  real mu_intercept;\n",
    "\n",
    "  real<lower=0> sigma_nighttime;\n",
    "  real<lower=0> sigma_rush_hour;\n",
    "  real<lower=0> sigma_intercept;\n",
    "\n",
    "  real b_nighttime[Nzips];\n",
    "  real b_rush_hour[Nzips];\n",
    "  real intercept[Nzips];\n",
    "}\n",
    "model {  \n",
    "  b_nighttime ~ normal(mu_nighttime, sigma_nighttime);\n",
    "  b_rush_hour ~ normal(mu_rush_hour, sigma_rush_hour);\n",
    "  intercept ~ normal(mu_intercept, sigma_intercept);\n",
    "  \n",
    "  mu_nighttime ~ normal(0, 1);\n",
    "  mu_rush_hour ~ normal(0, 1);\n",
    "  mu_intercept ~ normal(0, 1);\n",
    "  \n",
    "  injury ~ bernoulli_logit(\n",
    "    to_vector(b_nighttime[neighborhood]) .* to_vector(nighttime)\n",
    "    + to_vector(b_rush_hour[neighborhood]) .* to_vector(rush_hour)\n",
    "    + to_vector(intercept[neighborhood])\n",
    "  );\n",
    "}\n",
    "generated quantities {\n",
    "  vector[N] pred_means = inv_logit(\n",
    "    to_vector(b_nighttime[neighborhood]) .* to_vector(nighttime)\n",
    "    + to_vector(b_rush_hour[neighborhood]) .* to_vector(rush_hour)\n",
    "    + to_vector(intercept[neighborhood])\n",
    "  );\n",
    "  vector[N] residuals = to_vector(injury) - pred_means;\n",
    "  vector[Nzips] zip_pred_means = inv_logit(to_vector(intercept[neighborhood]));\n",
    "  int injury_rep[N] = bernoulli_rng(pred_means);\n",
    "}\n",
    "''')"
   ]
  },
  {
   "cell_type": "code",
   "execution_count": 27,
   "id": "8762b3ac",
   "metadata": {},
   "outputs": [
    {
     "name": "stderr",
     "output_type": "stream",
     "text": [
      "INFO:cmdstanpy:start chain 1\n",
      "INFO:cmdstanpy:start chain 2\n",
      "INFO:cmdstanpy:start chain 3\n",
      "INFO:cmdstanpy:start chain 4\n",
      "INFO:cmdstanpy:finish chain 4\n",
      "INFO:cmdstanpy:finish chain 3\n",
      "INFO:cmdstanpy:finish chain 1\n",
      "INFO:cmdstanpy:finish chain 2\n"
     ]
    }
   ],
   "source": [
    "zippool_fit = zippool.sample(data=bike_data, output_dir='10k_stan_output')"
   ]
  },
  {
   "cell_type": "code",
   "execution_count": 28,
   "id": "fd170a26",
   "metadata": {},
   "outputs": [
    {
     "name": "stderr",
     "output_type": "stream",
     "text": [
      "INFO:cmdstanpy:compiling stan program, exe file: /Users/charlie/Desktop/apsta2/apsta-proj/ipynb/10k_stan/bike_intzippool\n",
      "INFO:cmdstanpy:compiler options: stanc_options=None, cpp_options=None\n",
      "INFO:cmdstanpy:compiled model file: /Users/charlie/Desktop/apsta2/apsta-proj/ipynb/10k_stan/bike_intzippool\n"
     ]
    }
   ],
   "source": [
    "intzippool = get_model(\"10k_stan/bike_intzippool.stan\",\n",
    "'''\n",
    "data {\n",
    "  int<lower=0> N;\n",
    "  int<lower=0> Nzips; \n",
    "  int<lower=0,upper=1> nighttime[N];\n",
    "  int<lower=0,upper=1> rush_hour[N];\n",
    "  int<lower=1,upper=Nzips> neighborhood[N];\n",
    "  int<lower=0,upper=1> injury[N];\n",
    "}\n",
    "parameters {\n",
    "  real mu_intercept;\n",
    "  real<lower=0> sigma_intercept;\n",
    "\n",
    "  real b_nighttime;\n",
    "  real b_rush_hour;\n",
    "  real intercept[Nzips];\n",
    "}\n",
    "model {  \n",
    "  b_nighttime ~ normal(0, 1);\n",
    "  b_rush_hour ~ normal(0, 1);\n",
    "  intercept ~ normal(mu_intercept, sigma_intercept);\n",
    "  \n",
    "  mu_intercept ~ normal(0, 1);\n",
    "  \n",
    "  injury ~ bernoulli_logit(\n",
    "    b_nighttime * to_vector(nighttime)\n",
    "    + b_rush_hour * to_vector(rush_hour)\n",
    "    + to_vector(intercept[neighborhood])\n",
    "  );\n",
    "}\n",
    "generated quantities {\n",
    "  vector[N] pred_means = inv_logit(\n",
    "    b_nighttime * to_vector(nighttime)\n",
    "    + b_rush_hour * to_vector(rush_hour)\n",
    "    + to_vector(intercept[neighborhood])\n",
    "  );\n",
    "  vector[N] residuals = to_vector(injury) - pred_means;\n",
    "  vector[Nzips] zip_pred_means = inv_logit(to_vector(intercept[neighborhood]));\n",
    "  int injury_rep[N] = bernoulli_rng(pred_means);\n",
    "}\n",
    "''')"
   ]
  },
  {
   "cell_type": "code",
   "execution_count": 29,
   "id": "ca753e0a",
   "metadata": {},
   "outputs": [
    {
     "name": "stderr",
     "output_type": "stream",
     "text": [
      "INFO:cmdstanpy:start chain 1\n",
      "INFO:cmdstanpy:start chain 2\n",
      "INFO:cmdstanpy:start chain 3\n",
      "INFO:cmdstanpy:start chain 4\n",
      "INFO:cmdstanpy:finish chain 1\n",
      "INFO:cmdstanpy:finish chain 4\n",
      "INFO:cmdstanpy:finish chain 3\n",
      "INFO:cmdstanpy:finish chain 2\n"
     ]
    }
   ],
   "source": [
    "intzippool_fit = intzippool.sample(data=bike_data, output_dir='10k_stan_output')"
   ]
  },
  {
   "cell_type": "markdown",
   "id": "d618c7fc",
   "metadata": {},
   "source": [
    "## Model checking library\n",
    "\n",
    "Below, we have some model checks.\n",
    "\n",
    "For the first model check, we plot the average residuals by borough. I.e., if $C_b$ is the set of row indices $n$ such that that row corresponds to an observation in borough $b$, and if $N_b=\\lvert C_b\\rvert$, we plot $$\\frac1{N_b}\\sum_{n\\in C_b}^N (y_n - \\hat{y}_\\beta),$$\n",
    "where the histogram is taken over Stan's draws of model parameters $\\beta$. We also plot the mean over all $\\beta$ as a black vertical line. This is inspired by a similar procedure also applied to a logistic regression model in Prof. Gelman's paper \"Diagnostic checks for discrete data regression models using posterior predictive simulations\", http://www.stat.columbia.edu/~gelman/research/published/dogs.pdf."
   ]
  },
  {
   "cell_type": "markdown",
   "id": "3d7b3e02",
   "metadata": {},
   "source": [
    "### a model can be inspected with these if...\n",
    "\n",
    " - it has the `residuals` in the generated quantities\n",
    " - it has `pred_means` in generated quantities\n",
    " - Moran and Geary require `injury_rep`\n",
    "\n"
   ]
  },
  {
   "cell_type": "code",
   "execution_count": 30,
   "id": "0b72dca7",
   "metadata": {},
   "outputs": [],
   "source": [
    "gray = \"silver\"\n",
    "blue = \"navy\"\n",
    "red = \"darkred\"\n",
    "green = \"darkgreen\""
   ]
  },
  {
   "cell_type": "code",
   "execution_count": 31,
   "id": "71dc4810",
   "metadata": {},
   "outputs": [],
   "source": [
    "def avg_residual_plot(fit, name, axes=None):\n",
    "    own = False\n",
    "    if axes is None:\n",
    "        own = True\n",
    "        fig, axes = plt.subplots(5, 1, sharex=True, figsize=(6, 8))\n",
    "        \n",
    "    mars = {}\n",
    "    \n",
    "    for ax, n, b in zip(\n",
    "        axes,\n",
    "        (\"Bronx\", \"Brooklyn\", \"Manhattan\", \"Queens\", \"Staten Island\"),\n",
    "        (bronx, brooklyn, manhattan, queens, staten),\n",
    "    ):\n",
    "        x = fit.stan_variable(\"residuals\")[:, b].mean(axis=1)\n",
    "        ax.hist(x, bins=32, label=\"Average residuals\", histtype=\"stepfilled\", color=gray, ec=gray)\n",
    "        \n",
    "        if own:\n",
    "            ax.set_title(n)\n",
    "        else:\n",
    "            ax.axvline(0, color=\"k\", lw=1)\n",
    "            \n",
    "        ax.set_yticks([])\n",
    "        mar = x.mean()\n",
    "        if own:\n",
    "            ax.axvline(mar, color=blue, label=\"Mean average residual\")\n",
    "        mars[n] = mar\n",
    "        \n",
    "    sns.despine(left=True, top=True, right=True)\n",
    "    \n",
    "    if own:\n",
    "        axes.flat[-1].set_xlabel(\"Average residual\")\n",
    "        axes.flat[0].legend()\n",
    "        plt.savefig(f\"10k_figs/{name}_avg_res.pdf\")\n",
    "        fig.suptitle(\"Average residuals by borough\")\n",
    "        plt.tight_layout()\n",
    "        plt.show()\n",
    "    else:\n",
    "        h = axes.flat[0].set_ylabel(r\"\\begin{center}\" + name.replace(\" (\", \"\\\\\\\\ (\") + r\"\\end{center}\")\n",
    "        h.set_rotation(0)\n",
    "        # axes.flat[0].yaxis.set_label_coords(0, 0.25)\n",
    "        \n",
    "    return fit.stan_variable(\"residuals\").mean(), mars"
   ]
  },
  {
   "cell_type": "code",
   "execution_count": 32,
   "id": "02c31496",
   "metadata": {},
   "outputs": [],
   "source": [
    "def injury_prob_plot(fit, name, axes=None, oos=None):\n",
    "    \n",
    "    own = False\n",
    "    if axes is None:\n",
    "        own = True\n",
    "        fig, axes = plt.subplots(5, 1, sharex=True, figsize=(6, 8))\n",
    "    \n",
    "    pred_means = fit.stan_variable(\"pred_means\")\n",
    "    draws = rg.binomial(1, pred_means)\n",
    "    injuries_tot = draws.sum(axis=1)\n",
    "    \n",
    "    post_ps = {}\n",
    "    \n",
    "    for ax, n, b in zip(\n",
    "        axes,\n",
    "        (\"Bronx\", \"Brooklyn\", \"Manhattan\", \"Queens\", \"Staten Island\"),\n",
    "        (bronx, brooklyn, manhattan, queens, staten),\n",
    "    ):\n",
    "        draws_in_boro = draws[:, b]\n",
    "        pps = draws_in_boro.mean(axis=1)\n",
    "        ax.hist(pps, label=\"Posterior sample proportion\", histtype=\"stepfilled\", color=gray, ec=gray, bins=32)\n",
    "        obs = injury[b].mean()\n",
    "        ax.axvline(obs, color=red, label=\"Observed proportion\")\n",
    "        if oos is not None:\n",
    "            oos_b = oos[\"injury\"][b].mean()\n",
    "            ax.axvline(oos_b, color=green, label=\"Heldout proportion\")\n",
    "        post_p = min((pps > obs).mean(), (pps < obs).mean())\n",
    "        post_ps[n] = post_p\n",
    "        if own:\n",
    "            ax.set_title(n)\n",
    "        ax.set_yticks([])\n",
    "    \n",
    "    sns.despine(left=True, top=True, right=True)\n",
    "    if own:\n",
    "        axes.flat[-1].set_xlabel(\"Proportion injured\")\n",
    "        axes.flat[0].legend()\n",
    "        fig.suptitle(\"Estimated and observed proportion injured by borough\")\n",
    "        plt.tight_layout()\n",
    "        plt.savefig(f\"10k_figs/{name}_injury_prob.pdf\")\n",
    "        plt.show()\n",
    "    else:\n",
    "        h = axes.flat[0].set_ylabel(r\"\\begin{center}\" + name.replace(\" (\", \"\\\\\\\\ (\") + r\"\\end{center}\")\n",
    "        h.set_rotation(0)\n",
    "        # axes.flat[0].yaxis.set_label_coords(0, 0.25)\n",
    "        \n",
    "    return post_ps"
   ]
  },
  {
   "cell_type": "markdown",
   "id": "fac54af1",
   "metadata": {},
   "source": [
    "### Moran's $I$ and Geary's $C$\n",
    "\n",
    "These are two ways of measuring spatial autocorrelation. Moran apparently measures global spatial autocorrelation and Geary measures local, maybe Geary will be better here so let's try both. For a review see https://journals.plos.org/plosone/article?id=10.1371/journal.pone.0068336 -- an interesting note is that Moran's is a natural generalization of Pearson's $r$, and Geary's is a generalization of the Durbin-Watson statistic.\n",
    "\n",
    "These will be done with zip codes as the spatial index, and the adjacency matrix $A$ as the weights. These statistics both require single observations per neihborhood, so I will take the mean over the neighborhood (injury rate per each neighborhood) and also compute a grand mean of means, and these will be $\\bar{y}_i$ and $\\bar{\\bar{y}}$ in the formulas below.\n",
    "\n",
    "Let $N_{\\text{zip}}$ be the number of zip codes and $N_{\\text{edges}}=\\sum_{i<j}A_{i,j}$.\n",
    "\n",
    "With that set, Moran's $I$ is given by $$\n",
    "I\n",
    "=\n",
    "\\frac{N_{\\text{zip}}}{2 N_{\\text{edges}}}\n",
    "\\frac{\n",
    "\\sum_{i}\\sum_j A_{i,j}(\\bar{y}_i-\\bar{\\bar{y}})(\\bar{y}_j-\\bar{\\bar{y}})\n",
    "}{\n",
    "\\sum_i (\\bar{y}_i-\\bar{\\bar{y}})^2\n",
    "}\n",
    "=\n",
    "\\frac{N_{\\text{zip}}}{N_{\\text{edges}}}\n",
    "\\frac{\n",
    "\\sum_{i<j} A_{i,j}(\\bar{y}_i-\\bar{\\bar{y}})(\\bar{y}_j-\\bar{\\bar{y}})\n",
    "}{\n",
    "\\sum_i (\\bar{y}_i-\\bar{\\bar{y}})^2\n",
    "}.\n",
    "$$\n",
    "And, Geary's $C$ is given by $$\n",
    "C\n",
    "=\n",
    "\\frac{N_{\\text{zip}} - 1}{4 N_{\\text{edges}}}\n",
    "\\frac{\n",
    "\\sum_i\\sum_j A_{ij} (\\bar{y}_i - \\bar{y}_j)^2\n",
    "}{\n",
    "\\sum_i (\\bar{y}_i - \\bar{\\bar{y}})^2\n",
    "}\n",
    "=\n",
    "\\frac{N_{\\text{zip}} - 1}{2 N_{\\text{edges}}}\n",
    "\\frac{\n",
    "\\sum_{i<j} A_{ij} (\\bar{y}_i - \\bar{y}_j)^2\n",
    "}{\n",
    "\\sum_i (\\bar{y}_i - \\bar{\\bar{y}})^2\n",
    "}.\n",
    "$$\n",
    "\n",
    "We can use these as a posterior predictive check to see if the models are capturing the autocorrelation present in the data by plotting the posterior distribution and seeing how the observed statistics line up. To plot the posterior of these, we will simulate posterior draws of entire datasets for each MCMC parameter sample, which will be expensive, but we already do this for the residuals so its not going to be much worse."
   ]
  },
  {
   "cell_type": "markdown",
   "id": "bee07fbb",
   "metadata": {},
   "source": [
    "Here we have some functions to compute these."
   ]
  },
  {
   "cell_type": "code",
   "execution_count": 33,
   "id": "ca5b9c98",
   "metadata": {},
   "outputs": [],
   "source": [
    "# both Moran's and Geary's will want the ybars as input, so I\n",
    "# am factoring out the shared code here. this computes the ybar_i and ybarbar\n",
    "# described above\n",
    "# y[j] is observation j, pzi[j] is (parent) zip id of observation j,\n",
    "def zip_means_table(pzi, y):\n",
    "    table = pd.crosstab(pd.Series(pzi, name=\"pzi\"), pd.Series(y, name=\"injury\"))\n",
    "    ybars = table[1] / table.sum(axis=1)\n",
    "    return ybars"
   ]
  },
  {
   "cell_type": "code",
   "execution_count": 34,
   "id": "2a6b6bcf",
   "metadata": {},
   "outputs": [
    {
     "data": {
      "text/plain": [
       "pzi\n",
       "1      0.717557\n",
       "2      0.831818\n",
       "3      0.733990\n",
       "4      0.750000\n",
       "5      0.789474\n",
       "         ...   \n",
       "175    0.764706\n",
       "176    0.888889\n",
       "177    0.857143\n",
       "178    0.846154\n",
       "179    1.000000\n",
       "Length: 174, dtype: float64"
      ]
     },
     "execution_count": 34,
     "metadata": {},
     "output_type": "execute_result"
    }
   ],
   "source": [
    "obs_means_table = zip_means_table(sample[\"neighborhood\"], sample[\"injury\"])\n",
    "obs_means_table"
   ]
  },
  {
   "cell_type": "code",
   "execution_count": 35,
   "id": "438bfd40",
   "metadata": {},
   "outputs": [],
   "source": [
    "# heldout_means_table = zip_means_table(heldout_df[\"pzi\"], heldout_df[\"injury\"])\n",
    "# heldout_means_table"
   ]
  },
  {
   "cell_type": "code",
   "execution_count": 36,
   "id": "c596d0b7",
   "metadata": {},
   "outputs": [],
   "source": [
    "def moran_i(table):\n",
    "    pzi, means = table.index.values, table.values\n",
    "    A_these_zips = A[pzi - 1][:, pzi - 1]\n",
    "    grand_mean = means.mean()\n",
    "    devs = means - grand_mean\n",
    "    sxx = np.sum(np.square(devs))\n",
    "    sxy = devs.T @ A_these_zips @ devs\n",
    "    return (Nzips / (2 * N_edges)) * (sxy / sxx)"
   ]
  },
  {
   "cell_type": "code",
   "execution_count": 37,
   "id": "75f38ae3",
   "metadata": {},
   "outputs": [
    {
     "data": {
      "text/plain": [
       "0.28645612421405964"
      ]
     },
     "execution_count": 37,
     "metadata": {},
     "output_type": "execute_result"
    }
   ],
   "source": [
    "obs_moran = moran_i(obs_means_table)\n",
    "obs_moran"
   ]
  },
  {
   "cell_type": "code",
   "execution_count": 38,
   "id": "98f9a1f2",
   "metadata": {},
   "outputs": [],
   "source": [
    "# oos_moran = moran_i(heldout_means_table)\n",
    "# oos_moran"
   ]
  },
  {
   "cell_type": "code",
   "execution_count": 39,
   "id": "434463e0",
   "metadata": {},
   "outputs": [],
   "source": [
    "def geary_c(table):\n",
    "    pzi, means = table.index.values, table.values\n",
    "    A_these_zips = A[pzi - 1][:, pzi - 1]\n",
    "    grand_mean = means.mean()\n",
    "    devs = means - grand_mean\n",
    "    sxx = np.sum(np.square(devs))\n",
    "    ss = np.sum(A_these_zips * np.square(np.subtract.outer(means, means)))\n",
    "    return ((Nzips - 1) / (4 * N_edges)) * (ss / sxx)"
   ]
  },
  {
   "cell_type": "code",
   "execution_count": 40,
   "id": "6e18ed1a",
   "metadata": {},
   "outputs": [
    {
     "data": {
      "text/plain": [
       "0.5921476641103021"
      ]
     },
     "execution_count": 40,
     "metadata": {},
     "output_type": "execute_result"
    }
   ],
   "source": [
    "obs_geary = geary_c(obs_means_table)\n",
    "obs_geary"
   ]
  },
  {
   "cell_type": "code",
   "execution_count": 41,
   "id": "a3f5cf36",
   "metadata": {},
   "outputs": [],
   "source": [
    "# oos_geary = geary_c(heldout_means_table)\n",
    "# oos_geary"
   ]
  },
  {
   "cell_type": "markdown",
   "id": "5e974648",
   "metadata": {},
   "source": [
    "now some code for making histograms of these two things given model reps"
   ]
  },
  {
   "cell_type": "code",
   "execution_count": 42,
   "id": "08cd2b79",
   "metadata": {},
   "outputs": [],
   "source": [
    "def spatial_autocorrelation_check(fit, name):\n",
    "    morans, gearys = [], []\n",
    "    for yrep in fit.stan_variable(\"injury_rep\"):\n",
    "        table = zip_means_table(sample[\"neighborhood\"], yrep)\n",
    "        morans.append(moran_i(table))\n",
    "        gearys.append(geary_c(table))\n",
    "    morans = np.array(morans)\n",
    "    gearys = np.array(gearys)\n",
    "    \n",
    "    moran_post_p = min((morans > obs_moran).mean(), (morans < obs_moran).mean())\n",
    "    geary_post_p = min((gearys > obs_geary).mean(), (gearys < obs_geary).mean())\n",
    "        \n",
    "    fig, (aa, ab) = plt.subplots(1, 2, figsize=(6, 4), sharey=True)\n",
    "    aa.hist(morans, density=True, label=\"posterior histogram\", bins=32, histtype=\"stepfilled\", color=gray, ec=gray)\n",
    "    aa.set_xlabel(\"Moran's I\")\n",
    "    aa.axvline(obs_moran, color=red, label=\"observed\")\n",
    "    ab.hist(gearys, density=True, label=\"posterior histogram\", bins=32, histtype=\"stepfilled\", color=gray, ec=gray)\n",
    "    ab.set_xlabel(\"Geary's C\")\n",
    "    ab.axvline(obs_geary, color=red, label=\"observed\")\n",
    "    sns.despine(left=True, top=True, right=True)\n",
    "    aa.set_yticks([])\n",
    "    ab.set_yticks([])\n",
    "    ab.legend(bbox_to_anchor=(1.05, 1))\n",
    "    plt.savefig(f\"10k_figs/{name}_spatial.pdf\")\n",
    "    plt.show()\n",
    "    return moran_post_p, geary_post_p"
   ]
  },
  {
   "cell_type": "markdown",
   "id": "1b4f5dfb",
   "metadata": {},
   "source": [
    "## Model checks\n",
    "\n",
    "The plots we promised!"
   ]
  },
  {
   "cell_type": "code",
   "execution_count": 43,
   "id": "ef48c5e4",
   "metadata": {},
   "outputs": [],
   "source": [
    "plt.rc(\"text\", usetex=True)\n",
    "plt.rc(\"font\", family=\"serif\")"
   ]
  },
  {
   "cell_type": "markdown",
   "id": "ad06f006",
   "metadata": {},
   "source": [
    "### Global model -- no spatial / borough aspect"
   ]
  },
  {
   "cell_type": "code",
   "execution_count": 44,
   "id": "8879c6ff",
   "metadata": {
    "scrolled": false
   },
   "outputs": [
    {
     "data": {
      "image/png": "[encoded data removed]",
      "text/plain": [
       "<Figure size 432x576 with 5 Axes>"
      ]
     },
     "metadata": {
      "needs_background": "light"
     },
     "output_type": "display_data"
    }
   ],
   "source": [
    "glob_mar, glob_mars = avg_residual_plot(glob_fit, \"glob\")"
   ]
  },
  {
   "cell_type": "code",
   "execution_count": 45,
   "id": "8faad73e",
   "metadata": {},
   "outputs": [
    {
     "data": {
      "image/png": "[encoded data removed]",
      "text/plain": [
       "<Figure size 432x576 with 5 Axes>"
      ]
     },
     "metadata": {
      "needs_background": "light"
     },
     "output_type": "display_data"
    }
   ],
   "source": [
    "glob_injury_post_ps = injury_prob_plot(glob_fit, \"glob\")"
   ]
  },
  {
   "cell_type": "code",
   "execution_count": 46,
   "id": "3dc295a5",
   "metadata": {},
   "outputs": [
    {
     "data": {
      "image/png": "[encoded data removed]",
      "text/plain": [
       "<Figure size 432x288 with 2 Axes>"
      ]
     },
     "metadata": {
      "needs_background": "light"
     },
     "output_type": "display_data"
    }
   ],
   "source": [
    "glob_moran_p, glob_geary_p = spatial_autocorrelation_check(glob_fit, \"glob\")"
   ]
  },
  {
   "cell_type": "markdown",
   "id": "82798b00",
   "metadata": {},
   "source": [
    "### Borough-by-borough model, separate model for each borough"
   ]
  },
  {
   "cell_type": "code",
   "execution_count": 47,
   "id": "a32cf10d",
   "metadata": {},
   "outputs": [
    {
     "data": {
      "image/png": "[encoded data removed]",
      "text/plain": [
       "<Figure size 432x576 with 5 Axes>"
      ]
     },
     "metadata": {
      "needs_background": "light"
     },
     "output_type": "display_data"
    }
   ],
   "source": [
    "nopool_mar, nopool_mars = avg_residual_plot(nopool_fit, \"nopool\")"
   ]
  },
  {
   "cell_type": "code",
   "execution_count": 48,
   "id": "e1572020",
   "metadata": {},
   "outputs": [
    {
     "data": {
      "image/png": "[encoded data removed]",
      "text/plain": [
       "<Figure size 432x576 with 5 Axes>"
      ]
     },
     "metadata": {
      "needs_background": "light"
     },
     "output_type": "display_data"
    }
   ],
   "source": [
    "nopool_injury_post_ps = injury_prob_plot(nopool_fit, \"nopool\")"
   ]
  },
  {
   "cell_type": "code",
   "execution_count": 49,
   "id": "803e8fb4",
   "metadata": {},
   "outputs": [
    {
     "data": {
      "image/png": "[encoded data removed]",
      "text/plain": [
       "<Figure size 432x288 with 2 Axes>"
      ]
     },
     "metadata": {
      "needs_background": "light"
     },
     "output_type": "display_data"
    }
   ],
   "source": [
    "nopool_moran_p, nopool_geary_p = spatial_autocorrelation_check(nopool_fit, \"nopool\")"
   ]
  },
  {
   "cell_type": "markdown",
   "id": "89d1ada5",
   "metadata": {},
   "source": [
    "### Boroughs with pooling"
   ]
  },
  {
   "cell_type": "code",
   "execution_count": 50,
   "id": "b8db2f0b",
   "metadata": {},
   "outputs": [
    {
     "data": {
      "image/png": "[encoded data removed]",
      "text/plain": [
       "<Figure size 432x576 with 5 Axes>"
      ]
     },
     "metadata": {
      "needs_background": "light"
     },
     "output_type": "display_data"
    }
   ],
   "source": [
    "pool_mar, pool_mars = avg_residual_plot(pool_fit, \"pool\")"
   ]
  },
  {
   "cell_type": "code",
   "execution_count": 51,
   "id": "dda2acac",
   "metadata": {},
   "outputs": [
    {
     "data": {
      "image/png": "[encoded data removed]",
      "text/plain": [
       "<Figure size 432x576 with 5 Axes>"
      ]
     },
     "metadata": {
      "needs_background": "light"
     },
     "output_type": "display_data"
    }
   ],
   "source": [
    "pool_injury_post_ps = injury_prob_plot(pool_fit, \"pool\")"
   ]
  },
  {
   "cell_type": "code",
   "execution_count": 52,
   "id": "bf7a6813",
   "metadata": {},
   "outputs": [
    {
     "data": {
      "image/png": "[encoded data removed]",
      "text/plain": [
       "<Figure size 432x288 with 2 Axes>"
      ]
     },
     "metadata": {
      "needs_background": "light"
     },
     "output_type": "display_data"
    }
   ],
   "source": [
    "pool_moran_p, pool_geary_p = spatial_autocorrelation_check(pool_fit, \"pool\")"
   ]
  },
  {
   "cell_type": "markdown",
   "id": "7e67e117",
   "metadata": {},
   "source": [
    "### ICAR by zip code"
   ]
  },
  {
   "cell_type": "code",
   "execution_count": 53,
   "id": "e96b0468",
   "metadata": {},
   "outputs": [
    {
     "data": {
      "image/png": "[encoded data removed]",
      "text/plain": [
       "<Figure size 432x576 with 5 Axes>"
      ]
     },
     "metadata": {
      "needs_background": "light"
     },
     "output_type": "display_data"
    }
   ],
   "source": [
    "icar_mar, icar_mars = avg_residual_plot(icar_fit, \"icar\")"
   ]
  },
  {
   "cell_type": "code",
   "execution_count": 54,
   "id": "2c92613b",
   "metadata": {},
   "outputs": [
    {
     "data": {
      "image/png": "[encoded data removed]",
      "text/plain": [
       "<Figure size 432x576 with 5 Axes>"
      ]
     },
     "metadata": {
      "needs_background": "light"
     },
     "output_type": "display_data"
    }
   ],
   "source": [
    "icar_injury_post_ps = injury_prob_plot(icar_fit, \"icar\")"
   ]
  },
  {
   "cell_type": "code",
   "execution_count": 55,
   "id": "44262a96",
   "metadata": {},
   "outputs": [
    {
     "data": {
      "image/png": "[encoded data removed]",
      "text/plain": [
       "<Figure size 432x288 with 2 Axes>"
      ]
     },
     "metadata": {
      "needs_background": "light"
     },
     "output_type": "display_data"
    }
   ],
   "source": [
    "icar_moran_p, icar_geary_p = spatial_autocorrelation_check(icar_fit, \"icar\")"
   ]
  },
  {
   "cell_type": "markdown",
   "id": "704c1d4f",
   "metadata": {},
   "source": [
    "### BYM by zip code"
   ]
  },
  {
   "cell_type": "code",
   "execution_count": 56,
   "id": "5f7d508d",
   "metadata": {},
   "outputs": [
    {
     "data": {
      "image/png": "[encoded data removed]",
      "text/plain": [
       "<Figure size 432x576 with 5 Axes>"
      ]
     },
     "metadata": {
      "needs_background": "light"
     },
     "output_type": "display_data"
    }
   ],
   "source": [
    "bym_mar, bym_mars = avg_residual_plot(bym_fit, \"bym\")"
   ]
  },
  {
   "cell_type": "code",
   "execution_count": 57,
   "id": "b89b163f",
   "metadata": {},
   "outputs": [
    {
     "data": {
      "image/png": "[encoded data removed]",
      "text/plain": [
       "<Figure size 432x576 with 5 Axes>"
      ]
     },
     "metadata": {
      "needs_background": "light"
     },
     "output_type": "display_data"
    }
   ],
   "source": [
    "bym_injury_post_ps = injury_prob_plot(bym_fit, \"bym\")"
   ]
  },
  {
   "cell_type": "code",
   "execution_count": 58,
   "id": "376f0715",
   "metadata": {},
   "outputs": [
    {
     "data": {
      "image/png": "[encoded data removed]",
      "text/plain": [
       "<Figure size 432x288 with 2 Axes>"
      ]
     },
     "metadata": {
      "needs_background": "light"
     },
     "output_type": "display_data"
    }
   ],
   "source": [
    "bym_moran_p, bym_geary_p = spatial_autocorrelation_check(bym_fit, \"bym\")"
   ]
  },
  {
   "cell_type": "markdown",
   "id": "2e098f53",
   "metadata": {},
   "source": [
    "### Zip code pooling"
   ]
  },
  {
   "cell_type": "code",
   "execution_count": 59,
   "id": "6535b7aa",
   "metadata": {},
   "outputs": [
    {
     "data": {
      "image/png": "[encoded data removed]",
      "text/plain": [
       "<Figure size 432x576 with 5 Axes>"
      ]
     },
     "metadata": {
      "needs_background": "light"
     },
     "output_type": "display_data"
    }
   ],
   "source": [
    "zippool_mar, zippool_mars = avg_residual_plot(zippool_fit, \"zippool\")"
   ]
  },
  {
   "cell_type": "code",
   "execution_count": 60,
   "id": "88f54603",
   "metadata": {},
   "outputs": [
    {
     "data": {
      "image/png": "[encoded data removed]",
      "text/plain": [
       "<Figure size 432x576 with 5 Axes>"
      ]
     },
     "metadata": {
      "needs_background": "light"
     },
     "output_type": "display_data"
    }
   ],
   "source": [
    "zippool_injury_post_ps = injury_prob_plot(zippool_fit, \"zippool\")"
   ]
  },
  {
   "cell_type": "code",
   "execution_count": 61,
   "id": "88576b3b",
   "metadata": {
    "scrolled": true
   },
   "outputs": [
    {
     "data": {
      "image/png": "[encoded data removed]",
      "text/plain": [
       "<Figure size 432x288 with 2 Axes>"
      ]
     },
     "metadata": {
      "needs_background": "light"
     },
     "output_type": "display_data"
    }
   ],
   "source": [
    "zippool_moran_p, zippool_geary_p = spatial_autocorrelation_check(zippool_fit, \"zippool\")"
   ]
  },
  {
   "cell_type": "markdown",
   "id": "cb748bea",
   "metadata": {},
   "source": [
    "### Zip code pooling, global slopes (only intercept varies by borough)"
   ]
  },
  {
   "cell_type": "code",
   "execution_count": 62,
   "id": "cb5a3544",
   "metadata": {},
   "outputs": [
    {
     "data": {
      "image/png": "[encoded data removed]",
      "text/plain": [
       "<Figure size 432x576 with 5 Axes>"
      ]
     },
     "metadata": {
      "needs_background": "light"
     },
     "output_type": "display_data"
    }
   ],
   "source": [
    "intzippool_mar, intzippool_mars = avg_residual_plot(intzippool_fit, \"intzippool\")"
   ]
  },
  {
   "cell_type": "code",
   "execution_count": 63,
   "id": "2024c669",
   "metadata": {},
   "outputs": [
    {
     "data": {
      "image/png": "[encoded data removed]",
      "text/plain": [
       "<Figure size 432x576 with 5 Axes>"
      ]
     },
     "metadata": {
      "needs_background": "light"
     },
     "output_type": "display_data"
    }
   ],
   "source": [
    "intzippool_injury_post_ps = injury_prob_plot(intzippool_fit, \"intzippool\")"
   ]
  },
  {
   "cell_type": "code",
   "execution_count": 64,
   "id": "eaa05da0",
   "metadata": {
    "scrolled": true
   },
   "outputs": [
    {
     "data": {
      "image/png": "[encoded data removed]",
      "text/plain": [
       "<Figure size 432x288 with 2 Axes>"
      ]
     },
     "metadata": {
      "needs_background": "light"
     },
     "output_type": "display_data"
    }
   ],
   "source": [
    "intzippool_moran_p, intzippool_geary_p = spatial_autocorrelation_check(intzippool_fit, \"intzippool\")"
   ]
  },
  {
   "cell_type": "markdown",
   "id": "5f00aec7",
   "metadata": {},
   "source": [
    "### All model morans"
   ]
  },
  {
   "cell_type": "code",
   "execution_count": 65,
   "id": "3927f202",
   "metadata": {},
   "outputs": [],
   "source": [
    "names = [\"Global\", \"Boroughs (no pooling)\", \"Boroughs (pooling)\", \"Zip codes (pooling)\", \"Zip (intercept)\", \"ICAR\", \"BYM\"]\n",
    "nicks = [\"glob\", \"nopool\", \"pool\", \"zippool\", \"intzippool\", \"icar\", \"bym\", ]\n",
    "include = [1, 1, 1, 1, 1, 1, 1]\n",
    "fits = [glob_fit, nopool_fit, pool_fit, zippool_fit, intzippool_fit, icar_fit, bym_fit]"
   ]
  },
  {
   "cell_type": "code",
   "execution_count": 66,
   "id": "0d510961",
   "metadata": {},
   "outputs": [
    {
     "name": "stdout",
     "output_type": "stream",
     "text": [
      "0 Global\n",
      "1 Boroughs (no pooling)\n",
      "2 Boroughs (pooling)\n",
      "3 Zip codes (pooling)\n",
      "4 Zip (intercept)\n",
      "5 ICAR\n",
      "6 BYM\n"
     ]
    }
   ],
   "source": [
    "all_morans = {}\n",
    "all_gearys = {}\n",
    "\n",
    "for i, (name, nick, do, fit) in enumerate(zip(names, nicks, include, fits)):\n",
    "    print(i, name)\n",
    "    \n",
    "    if not do:\n",
    "        continue\n",
    "    \n",
    "    morans, gearys = [], []\n",
    "    for yrep in fit.stan_variable(\"injury_rep\"):\n",
    "        table = zip_means_table(sample[\"neighborhood\"], yrep)\n",
    "        morans.append(moran_i(table))\n",
    "        gearys.append(geary_c(table))\n",
    "    morans = np.array(morans)\n",
    "    gearys = np.array(gearys)\n",
    "    all_morans[nick] = morans\n",
    "    all_gearys[nick] = gearys"
   ]
  },
  {
   "cell_type": "code",
   "execution_count": 67,
   "id": "729eef48",
   "metadata": {},
   "outputs": [
    {
     "name": "stdout",
     "output_type": "stream",
     "text": [
      "0 Global\n",
      "1 Boroughs (no pooling)\n",
      "2 Boroughs (pooling)\n",
      "3 Zip codes (pooling)\n",
      "4 Zip (intercept)\n",
      "5 ICAR\n",
      "6 BYM\n"
     ]
    },
    {
     "data": {
      "image/png": "[encoded data removed]",
      "text/plain": [
       "<Figure size 360x378 with 14 Axes>"
      ]
     },
     "metadata": {
      "needs_background": "light"
     },
     "output_type": "display_data"
    }
   ],
   "source": [
    "fig, axes = plt.subplots(sum(include), 2, figsize=(5, 0.75 * sum(include)), sharex=\"col\")\n",
    "post_ps = []\n",
    "\n",
    "for i, (name, nick, do, fit) in enumerate(zip(names, nicks, include, fits)):\n",
    "    print(i, name)\n",
    "    \n",
    "    if not do:\n",
    "        continue\n",
    "    \n",
    "    aa, ab = axes[i]\n",
    "    \n",
    "    h = aa.set_ylabel(r\"\\begin{center}\" + name.replace(\" (\", \"\\\\\\\\ (\") + r\"\\end{center}\")\n",
    "    h.set_rotation(0)\n",
    "        \n",
    "    morans = all_morans[nick]\n",
    "    gearys = all_gearys[nick]\n",
    "    \n",
    "    moran_post_p = min((morans > obs_moran).mean(), (morans < obs_moran).mean())\n",
    "    geary_post_p = min((gearys > obs_geary).mean(), (gearys < obs_geary).mean())\n",
    "    post_ps.append([moran_post_p, geary_post_p])\n",
    "        \n",
    "    aa.hist(morans, density=True, label=\"posterior histogram\", bins=32, histtype=\"stepfilled\", color=gray, ec=gray)\n",
    "    aa.axvline(obs_moran, color=red, label=\"observed\")\n",
    "    #aa.axvline(oos_moran, color=green, label=\"heldout\")\n",
    "    ab.hist(gearys, density=True, label=\"posterior histogram\", bins=32, histtype=\"stepfilled\", color=gray, ec=gray)\n",
    "    ab.axvline(obs_geary, color=red, label=\"observed\")\n",
    "    #ab.axvline(oos_geary, color=green, label=\"heldout\")\n",
    "    sns.despine(left=True, top=True, right=True)\n",
    "    aa.set_yticks([])\n",
    "    ab.set_yticks([])\n",
    "    aa.yaxis.set_label_coords(0, 0.25)\n",
    "\n",
    "\n",
    "aa.set_xlabel(\"Moran's I\")\n",
    "ab.set_xlabel(\"Geary's C\")\n",
    "plt.tight_layout()\n",
    "\n",
    "axes[0,1].legend(bbox_to_anchor=(0.25, 1))\n",
    "plt.savefig(f\"10k_figs/all_spatial.pdf\", bbox_inches=\"tight\")\n",
    "plt.show()"
   ]
  },
  {
   "cell_type": "code",
   "execution_count": 68,
   "id": "eeab7046",
   "metadata": {},
   "outputs": [],
   "source": [
    "spatial_post_ps = pd.DataFrame(post_ps, index=names, columns=[\"Moran's $I$\", \"Geary's $C$\"])"
   ]
  },
  {
   "cell_type": "code",
   "execution_count": 69,
   "id": "ca613586",
   "metadata": {
    "scrolled": true
   },
   "outputs": [
    {
     "name": "stdout",
     "output_type": "stream",
     "text": [
      "\\begin{tabular}{lrr}\n",
      "\\toprule\n",
      "{} &  Moran's \\$I\\$ &  Geary's \\$C\\$ \\\\\n",
      "\\midrule\n",
      "Global                &      0.00000 &      0.02350 \\\\\n",
      "Boroughs (no pooling) &      0.06225 &      0.35750 \\\\\n",
      "Boroughs (pooling)    &      0.05975 &      0.33850 \\\\\n",
      "Zip codes (pooling)   &      0.00000 &      0.02400 \\\\\n",
      "Zip (intercept)       &      0.00000 &      0.02675 \\\\\n",
      "ICAR                  &      0.12625 &      0.49350 \\\\\n",
      "BYM                   &      0.09525 &      0.43500 \\\\\n",
      "\\bottomrule\n",
      "\\end{tabular}\n",
      "\n"
     ]
    }
   ],
   "source": [
    "print(spatial_post_ps.to_latex())"
   ]
  },
  {
   "cell_type": "code",
   "execution_count": 70,
   "id": "905d69d6",
   "metadata": {},
   "outputs": [],
   "source": [
    "all_mars = [glob_mars, nopool_mars, pool_mars, icar_mars, bym_mars, zippool_mars, intzippool_mars,]"
   ]
  },
  {
   "cell_type": "code",
   "execution_count": 116,
   "id": "0a8ee6cd",
   "metadata": {},
   "outputs": [],
   "source": [
    "mars_df = pd.DataFrame(\n",
    "    [list(md.values()) for md in all_mars],\n",
    "    index=names,\n",
    "    columns=list(all_mars[0].keys()),\n",
    ").T.mean()"
   ]
  },
  {
   "cell_type": "code",
   "execution_count": 117,
   "id": "8e732ab3",
   "metadata": {},
   "outputs": [
    {
     "name": "stdout",
     "output_type": "stream",
     "text": [
      "\\begin{tabular}{lr}\n",
      "\\toprule\n",
      "{} &         0 \\\\\n",
      "\\midrule\n",
      "Global                &  0.020257 \\\\\n",
      "Boroughs (no pooling) &  0.003762 \\\\\n",
      "Boroughs (pooling)    &  0.003765 \\\\\n",
      "Zip codes (pooling)   &  0.001984 \\\\\n",
      "Zip (intercept)       &  0.002364 \\\\\n",
      "ICAR                  &  0.011866 \\\\\n",
      "BYM                   &  0.012074 \\\\\n",
      "\\bottomrule\n",
      "\\end{tabular}\n",
      "\n"
     ]
    }
   ],
   "source": [
    "print(mars_df.to_latex())"
   ]
  },
  {
   "cell_type": "code",
   "execution_count": 73,
   "id": "4b44d33b",
   "metadata": {},
   "outputs": [],
   "source": [
    "all_injps = [glob_injury_post_ps, nopool_injury_post_ps, pool_injury_post_ps, icar_injury_post_ps, bym_injury_post_ps, zippool_injury_post_ps, intzippool_injury_post_ps,]"
   ]
  },
  {
   "cell_type": "code",
   "execution_count": 118,
   "id": "16b8e2c0",
   "metadata": {},
   "outputs": [],
   "source": [
    "injps_df = pd.DataFrame(\n",
    "    [list(ind.values()) for ind in all_injps],\n",
    "    index=names,\n",
    "    columns=list(all_injps[0].keys()),\n",
    ").T.mean()"
   ]
  },
  {
   "cell_type": "code",
   "execution_count": 119,
   "id": "630256d5",
   "metadata": {},
   "outputs": [
    {
     "name": "stdout",
     "output_type": "stream",
     "text": [
      "\\begin{tabular}{lr}\n",
      "\\toprule\n",
      "{} &        0 \\\\\n",
      "\\midrule\n",
      "Global                &  0.05805 \\\\\n",
      "Boroughs (no pooling) &  0.44660 \\\\\n",
      "Boroughs (pooling)    &  0.43565 \\\\\n",
      "Zip codes (pooling)   &  0.42575 \\\\\n",
      "Zip (intercept)       &  0.41340 \\\\\n",
      "ICAR                  &  0.15065 \\\\\n",
      "BYM                   &  0.15370 \\\\\n",
      "\\bottomrule\n",
      "\\end{tabular}\n",
      "\n"
     ]
    }
   ],
   "source": [
    "print(injps_df.to_latex())"
   ]
  },
  {
   "cell_type": "code",
   "execution_count": 122,
   "id": "7c1b3bc8",
   "metadata": {},
   "outputs": [
    {
     "name": "stdout",
     "output_type": "stream",
     "text": [
      "\\begin{tabular}{lrrrr}\n",
      "\\toprule\n",
      "{} &  Moran's \\$I\\$ &  Geary's \\$C\\$ &  Injury p &  Mean average residual \\\\\n",
      "\\midrule\n",
      "Global                &      0.00000 &      0.02350 &   0.05805 &               0.020257 \\\\\n",
      "Boroughs (no pooling) &      0.06225 &      0.35750 &   0.44660 &               0.003762 \\\\\n",
      "Boroughs (pooling)    &      0.05975 &      0.33850 &   0.43565 &               0.003765 \\\\\n",
      "Zip codes (pooling)   &      0.00000 &      0.02400 &   0.42575 &               0.001984 \\\\\n",
      "Zip (intercept)       &      0.00000 &      0.02675 &   0.41340 &               0.002364 \\\\\n",
      "ICAR                  &      0.12625 &      0.49350 &   0.15065 &               0.011866 \\\\\n",
      "BYM                   &      0.09525 &      0.43500 &   0.15370 &               0.012074 \\\\\n",
      "\\bottomrule\n",
      "\\end{tabular}\n",
      "\n"
     ]
    }
   ],
   "source": [
    "metrics = spatial_post_ps + 0\n",
    "metrics[\"Injury p\"] = injps_df\n",
    "metrics[\"Mean average residual\"] = mars_df\n",
    "print(metrics.to_latex())"
   ]
  },
  {
   "cell_type": "code",
   "execution_count": 76,
   "id": "5b072618",
   "metadata": {},
   "outputs": [
    {
     "data": {
      "image/png": "[encoded data removed]",
      "text/plain": [
       "<Figure size 432x378 with 35 Axes>"
      ]
     },
     "metadata": {
      "needs_background": "light"
     },
     "output_type": "display_data"
    }
   ],
   "source": [
    "fig, axes = plt.subplots(sum(include), 5, figsize=(6, 0.75 * sum(include)), sharex=\"col\")\n",
    "\n",
    "for a, b in zip(axes[0], (\"Bronx\", \"Brooklyn\", \"Manhattan\", \"Queens\", \"Staten Island\")):\n",
    "    a.set_title(b)\n",
    "\n",
    "for i, (name, fit) in enumerate(zip(names, fits)):\n",
    "    avg_residual_plot(fit, name, axes=axes[i])\n",
    "\n",
    "fig.suptitle(\"Average residuals\")\n",
    "plt.tight_layout()\n",
    "fig.savefig(\"10k_figs/all_avgres.pdf\", bbox_inches=\"tight\")\n",
    "\n",
    "plt.show()"
   ]
  },
  {
   "cell_type": "code",
   "execution_count": 78,
   "id": "fed190d8",
   "metadata": {},
   "outputs": [
    {
     "name": "stderr",
     "output_type": "stream",
     "text": [
      "<ipython-input-78-7da50e36abd1>:12: UserWarning: Tight layout not applied. tight_layout cannot make axes width small enough to accommodate all axes decorations\n",
      "  plt.tight_layout()\n"
     ]
    },
    {
     "data": {
      "image/png": "[encoded data removed]",
      "text/plain": [
       "<Figure size 432x432 with 35 Axes>"
      ]
     },
     "metadata": {
      "needs_background": "light"
     },
     "output_type": "display_data"
    }
   ],
   "source": [
    "fig, axes = plt.subplots(len(fits), 5, figsize=(6, 6), sharex=\"col\")\n",
    "\n",
    "for a, b in zip(axes[0], (\"Bronx\", \"Brooklyn\", \"Manhattan\", \"Queens\", \"Staten Island\")):\n",
    "    a.set_title(b)\n",
    "\n",
    "for i, (name, fit) in enumerate(zip(names, fits)):\n",
    "    injury_prob_plot(fit, name, axes=axes[i])\n",
    "    \n",
    "axes[-1, -1].legend(bbox_to_anchor=(1,-0.5))\n",
    "\n",
    "fig.suptitle(\"Probability of injury\")\n",
    "plt.tight_layout()\n",
    "fig.savefig(\"10k_figs/all_injprobs.pdf\", bbox_inches=\"tight\")\n",
    "\n",
    "plt.show()"
   ]
  },
  {
   "cell_type": "code",
   "execution_count": 79,
   "id": "cd603e4c",
   "metadata": {},
   "outputs": [
    {
     "name": "stdout",
     "output_type": "stream",
     "text": [
      "\\begin{tabular}{llll}\n",
      "\\toprule\n",
      "{} &         intercept &          b\\_rush\\_hour &        b\\_nighttime \\\\\n",
      "\\midrule\n",
      "Global              &   [\\$1.3\\textbackslash pm0.038\\$] &    [\\$0.047\\textbackslash pm0.062\\$] &  [\\$0.119\\textbackslash pm0.057\\$] \\\\\n",
      "Zip codes (pooling) &   [\\$1.41\\textbackslash pm0.43\\$] &    [\\$0.0109\\textbackslash pm0.14\\$] &   [\\$0.142\\textbackslash pm0.23\\$] \\\\\n",
      "Zip (intercept)     &   [\\$1.42\\textbackslash pm0.43\\$] &  [\\$0.00925\\textbackslash pm0.064\\$] &   [\\$0.11\\textbackslash pm0.058\\$] \\\\\n",
      "ICAR                &   [\\$1.5\\textbackslash pm0.051\\$] &  [\\$0.00398\\textbackslash pm0.064\\$] &  [\\$0.114\\textbackslash pm0.059\\$] \\\\\n",
      "BYM                 &  [\\$1.49\\textbackslash pm0.052\\$] &   [\\$0.0022\\textbackslash pm0.064\\$] &  [\\$0.114\\textbackslash pm0.059\\$] \\\\\n",
      "\\bottomrule\n",
      "\\end{tabular}\n",
      "\n"
     ]
    }
   ],
   "source": [
    "index = []\n",
    "data = {\"intercept\": [], \"b_rush_hour\": [], \"b_nighttime\": []}\n",
    "\n",
    "for i, (name, nick, do, fit) in enumerate(zip(names, nicks, include, fits)):\n",
    "    if \"orough\" in name:\n",
    "        continue\n",
    "    index.append(name)\n",
    "    for k in data:\n",
    "        sv = fit.stan_variable(k)\n",
    "        data[k].append([rf\"${sv.mean():0.3g}\\pm{sv.std():0.2g}$\"])\n",
    "\n",
    "print(pd.DataFrame(data, index=index).to_latex())"
   ]
  },
  {
   "cell_type": "code",
   "execution_count": null,
   "id": "c19ebd97",
   "metadata": {},
   "outputs": [],
   "source": []
  },
  {
   "cell_type": "markdown",
   "id": "e8aead0b",
   "metadata": {},
   "source": [
    "## Geo plots"
   ]
  },
  {
   "cell_type": "code",
   "execution_count": 80,
   "id": "9411c6ae",
   "metadata": {},
   "outputs": [],
   "source": [
    "from mpl_toolkits.axes_grid1.inset_locator import inset_axes"
   ]
  },
  {
   "cell_type": "markdown",
   "id": "7d1f0b84",
   "metadata": {},
   "source": [
    "load up zip code network"
   ]
  },
  {
   "cell_type": "code",
   "execution_count": 81,
   "id": "0065c200",
   "metadata": {},
   "outputs": [],
   "source": [
    "children = yaml.safe_load(open(\"../data/children.yaml\", \"r\"))\n",
    "child2parent = {c: p for p, cs in children.items() for c in cs}"
   ]
  },
  {
   "cell_type": "markdown",
   "id": "4b21eaa2",
   "metadata": {},
   "source": [
    "Census tract shapefiles"
   ]
  },
  {
   "cell_type": "code",
   "execution_count": 82,
   "id": "4908b03e",
   "metadata": {},
   "outputs": [],
   "source": [
    "sf = shapefile.Reader(str(Path(\"../data/tl_2020_us_zcta510/tl_2020_us_zcta510.shx\").resolve()))"
   ]
  },
  {
   "cell_type": "code",
   "execution_count": 83,
   "id": "cd9c8494",
   "metadata": {},
   "outputs": [],
   "source": [
    "pz_adj = yaml.safe_load(open(\"../data/parentadj.yaml\", \"r\"))\n",
    "allpzs = list(sorted(set(v for a, b in pz_adj.items() for v in (a, *b))))\n",
    "pz_edges = set(\n",
    "    (int(a), int(b)) if a <= b else (int(b), int(a))\n",
    "    for a, bs in pz_adj.items()\n",
    "    for b in bs\n",
    ")\n",
    "Nzips = len(allpzs)"
   ]
  },
  {
   "cell_type": "code",
   "execution_count": 84,
   "id": "c6ad2e77",
   "metadata": {},
   "outputs": [],
   "source": [
    "pz2i = {pz: i for i, pz in enumerate(allpzs, 1)}\n",
    "i2pz = dict(enumerate(allpzs, 1))"
   ]
  },
  {
   "cell_type": "markdown",
   "id": "a5c83892",
   "metadata": {},
   "source": [
    "Map zip code to census tract shape for plotting"
   ]
  },
  {
   "cell_type": "code",
   "execution_count": 85,
   "id": "e4c210a5",
   "metadata": {},
   "outputs": [],
   "source": [
    "pzip2shapes = {}\n",
    "for sr in sf.iterShapeRecords():\n",
    "    z = int(sr.record[\"ZCTA5CE10\"])\n",
    "    if z in child2parent:\n",
    "        pzip = child2parent[z]\n",
    "    else:\n",
    "        pzip = z\n",
    "        \n",
    "    if pzip in allpzs:\n",
    "        cur_shapes = pzip2shapes.get(pzip, [])\n",
    "        # https://gis.stackexchange.com/a/286865\n",
    "        for i in range(len(sr.shape.parts)):\n",
    "            i_start = sr.shape.parts[i]\n",
    "            if i == len(sr.shape.parts)-1:\n",
    "                i_end = len(sr.shape.points)\n",
    "            else:\n",
    "                i_end = sr.shape.parts[i+1]\n",
    "            x = [i[0] for i in sr.shape.points[i_start:i_end]]\n",
    "            y = [i[1] for i in sr.shape.points[i_start:i_end]]\n",
    "            cur_shapes.append((x, y))\n",
    "        pzip2shapes[pzip] = cur_shapes"
   ]
  },
  {
   "cell_type": "code",
   "execution_count": 86,
   "id": "72b2e159",
   "metadata": {},
   "outputs": [],
   "source": [
    "cmap = plt.get_cmap(\"Purples\")"
   ]
  },
  {
   "cell_type": "markdown",
   "id": "4ecc4f50",
   "metadata": {},
   "source": [
    "Census tract plotting helper!"
   ]
  },
  {
   "cell_type": "code",
   "execution_count": 87,
   "id": "7e8ddd02",
   "metadata": {},
   "outputs": [],
   "source": [
    "def plot_by_pzip(ax, pz2data, vmin, vmax, cm=cmap):\n",
    "    for pzip, x in pz2data.items():\n",
    "        if int(pzip) not in pzip2shapes:\n",
    "            print(f\"no shape for {pzip}...\")\n",
    "            continue\n",
    "        shapes = pzip2shapes[int(pzip)]\n",
    "        c = (x - vmin) / (vmax - vmin)\n",
    "        for x, y in shapes:\n",
    "            ax.fill(x, y, color=cm(c))"
   ]
  },
  {
   "cell_type": "code",
   "execution_count": 88,
   "id": "c559f408",
   "metadata": {},
   "outputs": [],
   "source": [
    "rates = sample_df.groupby('pzip')['injury'].mean()\n",
    "true_injury_rate_by_pzip = rates.sort_values().to_dict()"
   ]
  },
  {
   "cell_type": "code",
   "execution_count": 89,
   "id": "3e0cb896",
   "metadata": {},
   "outputs": [],
   "source": [
    "counts = sample_df.groupby('pzip')['injury'].count()\n",
    "count_by_pzip = counts.sort_values().to_dict()"
   ]
  },
  {
   "cell_type": "code",
   "execution_count": 90,
   "id": "0c7bc82e",
   "metadata": {},
   "outputs": [
    {
     "data": {
      "text/plain": [
       "(1, 231)"
      ]
     },
     "execution_count": 90,
     "metadata": {},
     "output_type": "execute_result"
    }
   ],
   "source": [
    "counts.min(), counts.max()"
   ]
  },
  {
   "cell_type": "code",
   "execution_count": 91,
   "id": "b20a1d82",
   "metadata": {},
   "outputs": [],
   "source": [
    "icar_probmeans = icar_fit.stan_variable(\"zip_pred_means\").mean(axis=0)\n",
    "icar_probmeans_by_pzip = {i2pz[i]: x for i, x in enumerate(icar_probmeans, 1)}"
   ]
  },
  {
   "cell_type": "code",
   "execution_count": 92,
   "id": "a4a32e1e",
   "metadata": {},
   "outputs": [],
   "source": [
    "bym_probmeans = bym_fit.stan_variable(\"zip_pred_means\").mean(axis=0)\n",
    "bym_probmeans_by_pzip = {i2pz[i]: x for i, x in enumerate(bym_probmeans, 1)}"
   ]
  },
  {
   "cell_type": "code",
   "execution_count": 93,
   "id": "4269c2bc",
   "metadata": {},
   "outputs": [],
   "source": [
    "zippool_probmeans = zippool_fit.stan_variable(\"zip_pred_means\").mean(axis=0)\n",
    "zippool_probmeans_by_pzip = {i2pz[i]: x for i, x in enumerate(zippool_probmeans, 1)}"
   ]
  },
  {
   "cell_type": "code",
   "execution_count": 94,
   "id": "784dad56",
   "metadata": {},
   "outputs": [],
   "source": [
    "intzippool_probmeans = intzippool_fit.stan_variable(\"zip_pred_means\").mean(axis=0)\n",
    "intzippool_probmeans_by_pzip = {i2pz[i]: x for i, x in enumerate(intzippool_probmeans, 1)}"
   ]
  },
  {
   "cell_type": "code",
   "execution_count": 97,
   "id": "36a79a71",
   "metadata": {},
   "outputs": [],
   "source": [
    "bymsum = bym_fit.summary()"
   ]
  },
  {
   "cell_type": "code",
   "execution_count": 113,
   "id": "3db09ac0",
   "metadata": {},
   "outputs": [
    {
     "name": "stdout",
     "output_type": "stream",
     "text": [
      "no shape for 11698...\n",
      "no shape for 11698...\n",
      "no shape for 11698...\n",
      "no shape for 11698...\n"
     ]
    },
    {
     "data": {
      "image/png": "[encoded data removed]",
      "text/plain": [
       "<Figure size 360x288 with 12 Axes>"
      ]
     },
     "metadata": {
      "needs_background": "light"
     },
     "output_type": "display_data"
    }
   ],
   "source": [
    "# Plot: spatial component by zip code\n",
    "\n",
    "fig, axes = plt.subplots(2, 3, figsize=(5, 4))\n",
    "\n",
    "for ax in axes.flat:\n",
    "    sns.despine(ax=ax, left=True, bottom=True, right=True, top=True)\n",
    "    ax.set_xticks([])\n",
    "    ax.set_yticks([])\n",
    "\n",
    "(ae, ac, aa), (af, ad, ab) = axes\n",
    "\n",
    "vmin = 0.6\n",
    "vmax = 1.0\n",
    "\n",
    "from matplotlib import cm, colors\n",
    "mappable = cm.ScalarMappable(norm=colors.Normalize(vmin, vmax), cmap=cmap)\n",
    "\n",
    "plot_by_pzip(aa, icar_probmeans_by_pzip, vmin, vmax) # icar_probmeans.min(), icar_probmeans.max())\n",
    "aa.set_title(\"ICAR\")\n",
    "\n",
    "plot_by_pzip(ab, bym_probmeans_by_pzip, vmin, vmax) # bym_probmeans.min(), bym_probmeans.max())\n",
    "ab.set_title(\"BYM\")\n",
    "\n",
    "plot_by_pzip(ac, zippool_probmeans_by_pzip, vmin, vmax) # zippool_probmeans.min(), zippool_probmeans.max())\n",
    "ac.set_title(\"Zip codes (global pooling)\")\n",
    "\n",
    "plot_by_pzip(ad, intzippool_probmeans_by_pzip, vmin, vmax) # intzippool_probmeans.min(), intzippool_probmeans.max())\n",
    "ad.set_title(\"Zip codes (intercept)\")\n",
    "\n",
    "plot_by_pzip(ae, true_injury_rate_by_pzip, vmin, vmax) # rates.min(), rates.max())\n",
    "ae.set_title(\"Raw rates\")\n",
    "\n",
    "plot_by_pzip(af, count_by_pzip, 0, 250)\n",
    "af.set_title(\"Collision counts\")\n",
    "\n",
    "plt.tight_layout()\n",
    "\n",
    "cbaxes = inset_axes(aa, width=\"30%\", height=\"3%\", loc=2) \n",
    "plt.colorbar(mappable, cax=cbaxes, ticks=[vmin,vmax], orientation='horizontal')\n",
    "cbaxes = inset_axes(ab, width=\"30%\", height=\"3%\", loc=2) \n",
    "plt.colorbar(mappable, cax=cbaxes, ticks=[vmin,vmax], orientation='horizontal')\n",
    "cbaxes = inset_axes(ac, width=\"30%\", height=\"3%\", loc=2) \n",
    "plt.colorbar(mappable, cax=cbaxes, ticks=[vmin,vmax], orientation='horizontal')\n",
    "cbaxes = inset_axes(ad, width=\"30%\", height=\"3%\", loc=2) \n",
    "plt.colorbar(mappable, cax=cbaxes, ticks=[vmin,vmax], orientation='horizontal')\n",
    "cbaxes = inset_axes(ae, width=\"30%\", height=\"3%\", loc=2) \n",
    "plt.colorbar(mappable, cax=cbaxes, ticks=[vmin,vmax], orientation='horizontal')\n",
    "cbaxes = inset_axes(af, width=\"30%\", height=\"3%\", loc=2) \n",
    "plt.colorbar(cm.ScalarMappable(norm=colors.Normalize(0, 250), cmap=cmap), cax=cbaxes, ticks=[0,250], orientation='horizontal')\n",
    "\n",
    "fig.savefig(\"10k_figs/10k_spatialcomp.pdf\")\n",
    "plt.show()"
   ]
  },
  {
   "cell_type": "code",
   "execution_count": 123,
   "id": "8c8e3427",
   "metadata": {},
   "outputs": [],
   "source": [
    "# Plot: posterior mean by zip code"
   ]
  },
  {
   "cell_type": "code",
   "execution_count": 99,
   "id": "d0c19e4e",
   "metadata": {},
   "outputs": [],
   "source": [
    "icar_postmeans = icar_fit.stan_variable(\"injury_rep\").mean(axis=0)\n",
    "icar_pzip_postmeans = pd.Series(icar_postmeans).groupby(sample_df[\"pzip\"]).mean().sort_values().to_dict()"
   ]
  },
  {
   "cell_type": "code",
   "execution_count": 100,
   "id": "72711e32",
   "metadata": {},
   "outputs": [],
   "source": [
    "bym_postmeans = bym_fit.stan_variable(\"injury_rep\").mean(axis=0)\n",
    "bym_pzip_postmeans = pd.Series(bym_postmeans).groupby(sample_df[\"pzip\"]).mean().sort_values().to_dict()"
   ]
  },
  {
   "cell_type": "code",
   "execution_count": 101,
   "id": "68999a57",
   "metadata": {},
   "outputs": [],
   "source": [
    "zippool_postmeans = zippool_fit.stan_variable(\"injury_rep\").mean(axis=0)\n",
    "zippool_pzip_postmeans = pd.Series(zippool_postmeans).groupby(sample_df[\"pzip\"]).mean().sort_values().to_dict()"
   ]
  },
  {
   "cell_type": "code",
   "execution_count": 102,
   "id": "c0d1f930",
   "metadata": {},
   "outputs": [],
   "source": [
    "intzippool_postmeans = intzippool_fit.stan_variable(\"injury_rep\").mean(axis=0)\n",
    "intzippool_pzip_postmeans = pd.Series(intzippool_postmeans).groupby(sample_df[\"pzip\"]).mean().sort_values().to_dict()"
   ]
  },
  {
   "cell_type": "code",
   "execution_count": 106,
   "id": "a821300d",
   "metadata": {},
   "outputs": [
    {
     "name": "stdout",
     "output_type": "stream",
     "text": [
      "[[<AxesSubplot:> <AxesSubplot:> <AxesSubplot:>]\n",
      " [<AxesSubplot:> <AxesSubplot:> <AxesSubplot:>]]\n"
     ]
    },
    {
     "data": {
      "image/png": "[encoded data removed]",
      "text/plain": [
       "<Figure size 360x288 with 12 Axes>"
      ]
     },
     "metadata": {
      "needs_background": "light"
     },
     "output_type": "display_data"
    }
   ],
   "source": [
    "fig, axes = plt.subplots(2, 3, figsize=(5, 4))\n",
    "\n",
    "for ax in axes.flat:\n",
    "    sns.despine(ax=ax, left=True, bottom=True, right=True, top=True)\n",
    "    ax.set_xticks([])\n",
    "    ax.set_yticks([])\n",
    "\n",
    "(ae, ac, aa), (af, ad, ab) = axes\n",
    "\n",
    "vmin = 0.6\n",
    "vmax = 1.0\n",
    "\n",
    "from matplotlib import cm, colors\n",
    "mappable = cm.ScalarMappable(norm=colors.Normalize(vmin, vmax), cmap=cmap)\n",
    "\n",
    "plot_by_pzip(aa, icar_pzip_postmeans, vmin, vmax) # icar_probmeans.min(), icar_probmeans.max())\n",
    "aa.set_title(\"ICAR\")\n",
    "\n",
    "plot_by_pzip(ab, bym_pzip_postmeans, vmin, vmax) # bym_probmeans.min(), bym_probmeans.max())\n",
    "ab.set_title(\"BYM\")\n",
    "\n",
    "plot_by_pzip(ac, zippool_pzip_postmeans, vmin, vmax) # zippool_probmeans.min(), zippool_probmeans.max())\n",
    "ac.set_title(\"Zip codes (global pooling)\")\n",
    "\n",
    "plot_by_pzip(ad, intzippool_pzip_postmeans, vmin, vmax) # intzippool_probmeans.min(), intzippool_probmeans.max())\n",
    "ad.set_title(\"Zip codes (intercept)\")\n",
    "\n",
    "plot_by_pzip(ae, true_injury_rate_by_pzip, vmin, vmax) # rates.min(), rates.max())\n",
    "ae.set_title(\"Raw rates\")\n",
    "\n",
    "plot_by_pzip(af, count_by_pzip, 0, 250)\n",
    "af.set_title(\"Collision counts\")\n",
    "\n",
    "plt.tight_layout()\n",
    "\n",
    "cbaxes = inset_axes(aa, width=\"30%\", height=\"3%\", loc=2) \n",
    "plt.colorbar(mappable, cax=cbaxes, ticks=[vmin,vmax], orientation='horizontal')\n",
    "cbaxes = inset_axes(ab, width=\"30%\", height=\"3%\", loc=2) \n",
    "plt.colorbar(mappable, cax=cbaxes, ticks=[vmin,vmax], orientation='horizontal')\n",
    "cbaxes = inset_axes(ac, width=\"30%\", height=\"3%\", loc=2) \n",
    "plt.colorbar(mappable, cax=cbaxes, ticks=[vmin,vmax], orientation='horizontal')\n",
    "cbaxes = inset_axes(ad, width=\"30%\", height=\"3%\", loc=2) \n",
    "plt.colorbar(mappable, cax=cbaxes, ticks=[vmin,vmax], orientation='horizontal')\n",
    "cbaxes = inset_axes(ae, width=\"30%\", height=\"3%\", loc=2) \n",
    "plt.colorbar(mappable, cax=cbaxes, ticks=[vmin,vmax], orientation='horizontal')\n",
    "cbaxes = inset_axes(af, width=\"30%\", height=\"3%\", loc=2) \n",
    "plt.colorbar(cm.ScalarMappable(norm=colors.Normalize(0, 250), cmap=cmap), cax=cbaxes, ticks=[0,250], orientation='horizontal')\n",
    "\n",
    "plt.savefig(\"10k_figs/10k_postmeans.pdf\")\n",
    "plt.show()"
   ]
  },
  {
   "cell_type": "code",
   "execution_count": null,
   "id": "46925af7",
   "metadata": {},
   "outputs": [],
   "source": []
  },
  {
   "cell_type": "code",
   "execution_count": null,
   "id": "47c64ed9",
   "metadata": {},
   "outputs": [],
   "source": []
  },
  {
   "cell_type": "code",
   "execution_count": null,
   "id": "ea795b3c",
   "metadata": {},
   "outputs": [],
   "source": []
  },
  {
   "cell_type": "code",
   "execution_count": null,
   "id": "653a5682",
   "metadata": {},
   "outputs": [],
   "source": []
  },
  {
   "cell_type": "code",
   "execution_count": null,
   "id": "313ecb67",
   "metadata": {},
   "outputs": [],
   "source": []
  },
  {
   "cell_type": "code",
   "execution_count": null,
   "id": "c1f2e5ea",
   "metadata": {},
   "outputs": [],
   "source": []
  }
 ],
 "metadata": {
  "kernelspec": {
   "display_name": "Python 3",
   "language": "python",
   "name": "python3"
  },
  "language_info": {
   "codemirror_mode": {
    "name": "ipython",
    "version": 3
   },
   "file_extension": ".py",
   "mimetype": "text/x-python",
   "name": "python",
   "nbconvert_exporter": "python",
   "pygments_lexer": "ipython3",
   "version": "3.8.8"
  }
 },
 "nbformat": 4,
 "nbformat_minor": 5
}
